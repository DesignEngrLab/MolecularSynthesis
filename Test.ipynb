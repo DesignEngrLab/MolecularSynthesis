{
 "cells": [
  {
   "cell_type": "code",
   "execution_count": 32,
   "metadata": {},
   "outputs": [
    {
     "ename": "LoadError",
     "evalue": "The following package names could not be resolved:\n * os (not found in project, manifest or registry)\n",
     "output_type": "error",
     "traceback": [
      "The following package names could not be resolved:\n * os (not found in project, manifest or registry)\n",
      "",
      "Stacktrace:",
      " [1] pkgerror(::String) at D:\\buildbot\\worker\\package_win64\\build\\usr\\share\\julia\\stdlib\\v1.5\\Pkg\\src\\Types.jl:52",
      " [2] ensure_resolved(::Pkg.Types.Context, ::Array{Pkg.Types.PackageSpec,1}; registry::Bool) at D:\\buildbot\\worker\\package_win64\\build\\usr\\share\\julia\\stdlib\\v1.5\\Pkg\\src\\Types.jl:837",
      " [3] add(::Pkg.Types.Context, ::Array{Pkg.Types.PackageSpec,1}; preserve::Pkg.Types.PreserveLevel, platform::Pkg.BinaryPlatforms.Windows, kwargs::Base.Iterators.Pairs{Union{},Union{},Tuple{},NamedTuple{(),Tuple{}}}) at D:\\buildbot\\worker\\package_win64\\build\\usr\\share\\julia\\stdlib\\v1.5\\Pkg\\src\\API.jl:178",
      " [4] add(::Pkg.Types.Context, ::Array{Pkg.Types.PackageSpec,1}) at D:\\buildbot\\worker\\package_win64\\build\\usr\\share\\julia\\stdlib\\v1.5\\Pkg\\src\\API.jl:140",
      " [5] #add#21 at D:\\buildbot\\worker\\package_win64\\build\\usr\\share\\julia\\stdlib\\v1.5\\Pkg\\src\\API.jl:67 [inlined]",
      " [6] add at D:\\buildbot\\worker\\package_win64\\build\\usr\\share\\julia\\stdlib\\v1.5\\Pkg\\src\\API.jl:67 [inlined]",
      " [7] #add#20 at D:\\buildbot\\worker\\package_win64\\build\\usr\\share\\julia\\stdlib\\v1.5\\Pkg\\src\\API.jl:66 [inlined]",
      " [8] add at D:\\buildbot\\worker\\package_win64\\build\\usr\\share\\julia\\stdlib\\v1.5\\Pkg\\src\\API.jl:66 [inlined]",
      " [9] add(::String; kwargs::Base.Iterators.Pairs{Union{},Union{},Tuple{},NamedTuple{(),Tuple{}}}) at D:\\buildbot\\worker\\package_win64\\build\\usr\\share\\julia\\stdlib\\v1.5\\Pkg\\src\\API.jl:65",
      " [10] add(::String) at D:\\buildbot\\worker\\package_win64\\build\\usr\\share\\julia\\stdlib\\v1.5\\Pkg\\src\\API.jl:65",
      " [11] top-level scope at In[32]:2",
      " [12] include_string(::Function, ::Module, ::String, ::String) at .\\loading.jl:1091"
     ]
    }
   ],
   "source": [
    "using Pkg\n",
    "Pkg.add(\"os\")"
   ]
  },
  {
   "cell_type": "code",
   "execution_count": 31,
   "metadata": {},
   "outputs": [
    {
     "ename": "LoadError",
     "evalue": "ArgumentError: Package os not found in current path:\n- Run `import Pkg; Pkg.add(\"os\")` to install the os package.\n",
     "output_type": "error",
     "traceback": [
      "ArgumentError: Package os not found in current path:\n- Run `import Pkg; Pkg.add(\"os\")` to install the os package.\n",
      "",
      "Stacktrace:",
      " [1] require(::Module, ::Symbol) at .\\loading.jl:893",
      " [2] include_string(::Function, ::Module, ::String, ::String) at .\\loading.jl:1091"
     ]
    }
   ],
   "source": [
    "using os"
   ]
  },
  {
   "cell_type": "code",
   "execution_count": 6,
   "metadata": {},
   "outputs": [
    {
     "name": "stdout",
     "output_type": "stream",
     "text": [
      "(1, \".xyz\")(2, \".xyz\")(3, \".xyz\")(4, \".xyz\")(5, \".xyz\")(6, \".xyz\")(7, \".xyz\")(8, \".xyz\")(9, \".xyz\")(10, \".xyz\")(11, \".xyz\")(12, \".xyz\")(13, \".xyz\")(14, \".xyz\")(15, \".xyz\")(16, \".xyz\")(17, \".xyz\")(18, \".xyz\")(19, \".xyz\")"
     ]
    }
   ],
   "source": [
    " for i = 1:19\n",
    "    \n",
    "    name = i, \".xyz\"\n",
    "    print(name)\n",
    "end"
   ]
  },
  {
   "cell_type": "code",
   "execution_count": 8,
   "metadata": {},
   "outputs": [
    {
     "data": {
      "text/plain": [
       "\"C:\\\\Users\\\\kgeri\\\\Documents\\\\GitHub\\\\MolecularSynthesis\""
      ]
     },
     "execution_count": 8,
     "metadata": {},
     "output_type": "execute_result"
    }
   ],
   "source": [
    "pwd()"
   ]
  },
  {
   "cell_type": "code",
   "execution_count": 15,
   "metadata": {},
   "outputs": [],
   "source": [
    "cd(\"C:\\\\Users\\\\kgeri\\\\Documents\\\\GitHub\\\\MolecularSynthesis\")"
   ]
  },
  {
   "cell_type": "code",
   "execution_count": 19,
   "metadata": {
    "scrolled": false
   },
   "outputs": [
    {
     "data": {
      "text/plain": [
       "40-element Array{String,1}:\n",
       " \"0.mol\"\n",
       " \"0.xyz\"\n",
       " \"1.mol\"\n",
       " \"1.xyz\"\n",
       " \"10.mol\"\n",
       " \"10.xyz\"\n",
       " \"11.mol\"\n",
       " \"11.xyz\"\n",
       " \"12.mol\"\n",
       " \"12.xyz\"\n",
       " \"13.mol\"\n",
       " \"13.xyz\"\n",
       " \"14.mol\"\n",
       " ⋮\n",
       " \"4.mol\"\n",
       " \"4.xyz\"\n",
       " \"5.mol\"\n",
       " \"5.xyz\"\n",
       " \"6.mol\"\n",
       " \"6.xyz\"\n",
       " \"7.mol\"\n",
       " \"7.xyz\"\n",
       " \"8.mol\"\n",
       " \"8.xyz\"\n",
       " \"9.mol\"\n",
       " \"9.xyz\""
      ]
     },
     "execution_count": 19,
     "metadata": {},
     "output_type": "execute_result"
    }
   ],
   "source": [
    "filelist = readdir(\"C:\\\\Users\\\\kgeri\\\\Documents\\\\GitHub\\\\MolecularSynthesis\\\\examples\")"
   ]
  },
  {
   "cell_type": "code",
   "execution_count": 69,
   "metadata": {},
   "outputs": [
    {
     "name": "stdout",
     "output_type": "stream",
     "text": [
      "0.cif\n",
      "1.cif\n",
      "10.cif\n",
      "11.cif\n",
      "12.cif\n",
      "13.cif\n",
      "14.cif\n",
      "15.cif\n",
      "16.cif\n",
      "17.cif\n",
      "18.cif\n",
      "19.cif\n",
      "2.cif\n",
      "3.cif\n",
      "4.cif\n",
      "5.cif\n",
      "6.cif\n",
      "7.cif\n",
      "8.cif\n",
      "9.cif\n"
     ]
    }
   ],
   "source": [
    "for i in filelist\n",
    "    if endswith(i, \".xyz\") == true \n",
    "        i = replace(i, \"xyz\" => \"cif\")\n",
    "        print(i, \"\\n\")\n",
    "    else\n",
    "    end\n",
    "    \n",
    "end"
   ]
  },
  {
   "cell_type": "code",
   "execution_count": 27,
   "metadata": {},
   "outputs": [
    {
     "data": {
      "text/plain": [
       "\"0.mol\""
      ]
     },
     "execution_count": 27,
     "metadata": {},
     "output_type": "execute_result"
    }
   ],
   "source": [
    "filelist[1]"
   ]
  },
  {
   "cell_type": "code",
   "execution_count": 28,
   "metadata": {},
   "outputs": [
    {
     "ename": "LoadError",
     "evalue": "UndefVarError: os not defined",
     "output_type": "error",
     "traceback": [
      "UndefVarError: os not defined",
      "",
      "Stacktrace:",
      " [1] top-level scope at In[28]:2",
      " [2] include_string(::Function, ::Module, ::String, ::String) at .\\loading.jl:1091"
     ]
    }
   ],
   "source": [
    "my_file = filelist[1]\n",
    "base = os.path.splitext(my_file)[0]\n",
    "os.rename(my_file, base + '.txt')"
   ]
  },
  {
   "cell_type": "code",
   "execution_count": 68,
   "metadata": {},
   "outputs": [
    {
     "data": {
      "text/plain": [
       "\"0.cif\""
      ]
     },
     "execution_count": 68,
     "metadata": {},
     "output_type": "execute_result"
    }
   ],
   "source": [
    "k = filelist[1]\n",
    " k = replace(k, \"mol\" => \"cif\")\n",
    "k"
   ]
  },
  {
   "cell_type": "code",
   "execution_count": 66,
   "metadata": {},
   "outputs": [
    {
     "data": {
      "text/plain": [
       "\"0.cif\""
      ]
     },
     "execution_count": 66,
     "metadata": {},
     "output_type": "execute_result"
    }
   ],
   "source": [
    " k = replace(k, \"mol\" => \"cif\")"
   ]
  },
  {
   "cell_type": "code",
   "execution_count": 67,
   "metadata": {},
   "outputs": [
    {
     "data": {
      "text/plain": [
       "\"0.cif\""
      ]
     },
     "execution_count": 67,
     "metadata": {},
     "output_type": "execute_result"
    }
   ],
   "source": [
    "k"
   ]
  },
  {
   "cell_type": "code",
   "execution_count": null,
   "metadata": {},
   "outputs": [],
   "source": []
  }
 ],
 "metadata": {
  "kernelspec": {
   "display_name": "Julia 1.5.1",
   "language": "julia",
   "name": "julia-1.5"
  },
  "language_info": {
   "file_extension": ".jl",
   "mimetype": "application/julia",
   "name": "julia",
   "version": "1.5.1"
  }
 },
 "nbformat": 4,
 "nbformat_minor": 2
}
