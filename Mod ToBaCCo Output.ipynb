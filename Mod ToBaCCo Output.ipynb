{
 "cells": [
  {
   "cell_type": "code",
   "execution_count": 1,
   "metadata": {},
   "outputs": [],
   "source": [
    "using Xtals, LightGraphs, Test, Printf, LinearAlgebra"
   ]
  },
  {
   "cell_type": "code",
   "execution_count": 8,
   "metadata": {},
   "outputs": [
    {
     "data": {
      "text/plain": [
       "\"pcu_v1-6c_Zn_1_Ch_1-1_fer_tobacco.cif\""
      ]
     },
     "execution_count": 8,
     "metadata": {},
     "output_type": "execute_result"
    }
   ],
   "source": [
    "path_to_cif_files = joinpath(homedir(), \"Documents\", \"GitHub\", \"MolecularSynthesis\", \"OutPut Cifs\")\n",
    "filename = \"pcu_v1-6c_Zn_1_Ch_1-1_fer_tobacco.cif\""
   ]
  },
  {
   "cell_type": "code",
   "execution_count": 9,
   "metadata": {
    "scrolled": true
   },
   "outputs": [
    {
     "data": {
      "text/plain": [
       "Name: C:\\Users\\kgeri\\Documents\\GitHub\\MolecularSynthesis\\OutPut Cifs\\pcu_v1-6c_Zn_1_Ch_1-1_fer_tobacco.cif\n",
       "Bravais unit cell of a crystal.\n",
       "\tUnit cell angles α = 90.000000 deg. β = 90.000000 deg. γ = 90.000000 deg.\n",
       "\tUnit cell dimensions a = 60.749368 Å. b = 60.749368 Å, c = 60.749368 Å\n",
       "\tVolume of unit cell: 224194.673891 Å³\n",
       "\n",
       "\t# atoms = 1552\n",
       "\t# charges = 1552\n",
       "\tchemical formula: Dict(:N => 24,:Zn => 4,:H => 48,:O => 19,:C => 99)\n",
       "\tspace Group: P1\n",
       "\tsymmetry Operations:\n",
       "\t\t'x, y, z'\n"
      ]
     },
     "execution_count": 9,
     "metadata": {},
     "output_type": "execute_result"
    }
   ],
   "source": [
    "crystal = Crystal(joinpath(path_to_cif_files, filename))"
   ]
  },
  {
   "cell_type": "code",
   "execution_count": 22,
   "metadata": {},
   "outputs": [
    {
     "ename": "LoadError",
     "evalue": "LoadError: ArgumentError: @printf: first or second argument must be a format string\nin expression starting at In[22]:3",
     "output_type": "error",
     "traceback": [
      "LoadError: ArgumentError: @printf: first or second argument must be a format string\nin expression starting at In[22]:3",
      "",
      "Stacktrace:",
      " [1] @printf(::LineNumberNode, ::Module, ::Vararg{Any,N} where N) at D:\\buildbot\\worker\\package_win64\\build\\usr\\share\\julia\\stdlib\\v1.5\\Printf\\src\\Printf.jl:1270",
      " [2] include_string(::Function, ::Module, ::String, ::String) at .\\loading.jl:1091"
     ]
    }
   ],
   "source": [
    "for i = 1:crystal.atoms.n\n",
    "   \n",
    "   mod.(crystal.atoms.coords.xf[:, i], 1.0)\n",
    "    \n",
    "end"
   ]
  },
  {
   "cell_type": "code",
   "execution_count": 20,
   "metadata": {},
   "outputs": [
    {
     "data": {
      "text/plain": [
       "Name: C:\\Users\\kgeri\\Documents\\GitHub\\MolecularSynthesis\\OutPut Cifs\\pcu_v1-6c_Zn_1_Ch_1-1_fer_tobacco.cif\n",
       "Bravais unit cell of a crystal.\n",
       "\tUnit cell angles α = 90.000000 deg. β = 90.000000 deg. γ = 90.000000 deg.\n",
       "\tUnit cell dimensions a = 60.749368 Å. b = 60.749368 Å, c = 60.749368 Å\n",
       "\tVolume of unit cell: 224194.673891 Å³\n",
       "\n",
       "\t# atoms = 1552\n",
       "\t# charges = 1552\n",
       "\tchemical formula: Dict(:N => 24,:Zn => 4,:H => 48,:O => 19,:C => 99)\n",
       "\tspace Group: P1\n",
       "\tsymmetry Operations:\n",
       "\t\t'x, y, z'\n"
      ]
     },
     "execution_count": 20,
     "metadata": {},
     "output_type": "execute_result"
    }
   ],
   "source": [
    "crystal"
   ]
  },
  {
   "cell_type": "code",
   "execution_count": 21,
   "metadata": {},
   "outputs": [
    {
     "data": {
      "text/plain": [
       "Frac([0.9815438409 0.0184561591 … 0.9920973943 0.0114416565; 0.9815438409 0.0184561591 … 0.0166985189 0.966792354; 0.0184561591 0.0184561591 … 0.0957890289 0.0848251936])"
      ]
     },
     "execution_count": 21,
     "metadata": {},
     "output_type": "execute_result"
    }
   ],
   "source": [
    "crystal.atoms.coords"
   ]
  },
  {
   "cell_type": "code",
   "execution_count": null,
   "metadata": {},
   "outputs": [],
   "source": []
  }
 ],
 "metadata": {
  "kernelspec": {
   "display_name": "Julia 1.5.1",
   "language": "julia",
   "name": "julia-1.5"
  },
  "language_info": {
   "file_extension": ".jl",
   "mimetype": "application/julia",
   "name": "julia",
   "version": "1.5.1"
  }
 },
 "nbformat": 4,
 "nbformat_minor": 2
}
