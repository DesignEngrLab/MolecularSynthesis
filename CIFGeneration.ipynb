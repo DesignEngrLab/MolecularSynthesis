{
 "cells": [
  {
   "cell_type": "code",
   "execution_count": 12,
   "metadata": {},
   "outputs": [],
   "source": [
    "using DataFrames\n",
    "using CSV\n",
    "using Printf\n",
    "using Statistics\n",
    "using LinearAlgebra\n"
   ]
  },
  {
   "cell_type": "code",
   "execution_count": 13,
   "metadata": {},
   "outputs": [],
   "source": [
    "using PorousMaterials\n",
    "using LightGraphs\n",
    "using GraphPlot"
   ]
  },
  {
   "cell_type": "code",
   "execution_count": 20,
   "metadata": {},
   "outputs": [
    {
     "ename": "LoadError",
     "evalue": "syntax: extra token \"github\" after end of expression",
     "output_type": "error",
     "traceback": [
      "syntax: extra token \"github\" after end of expression",
      "",
      "Stacktrace:",
      " [1] top-level scope at In[20]:1",
      " [2] include_string(::Function, ::Module, ::String, ::String) at .\\loading.jl:1091"
     ]
    }
   ],
   "source": [
    "using https://github.com/SimonEnsemble/Xtals.jl.git"
   ]
  },
  {
   "cell_type": "code",
   "execution_count": 8,
   "metadata": {},
   "outputs": [
    {
     "ename": "LoadError",
     "evalue": "ArgumentError: invalid base 10 digit '{' in \"{\"",
     "output_type": "error",
     "traceback": [
      "ArgumentError: invalid base 10 digit '{' in \"{\"",
      "",
      "Stacktrace:",
      " [1] tryparse_internal(::Type{Int64}, ::String, ::Int64, ::Int64, ::Int64, ::Bool) at .\\parse.jl:132",
      " [2] parse(::Type{Int64}, ::String; base::Nothing) at .\\parse.jl:238",
      " [3] parse at .\\parse.jl:238 [inlined]",
      " [4] read_xyz(::String) at C:\\Users\\zhang\\.julia\\packages\\PorousMaterials\\qkqKR\\src\\Misc.jl:22",
      " [5] top-level scope at In[8]:5",
      " [6] include_string(::Function, ::Module, ::String, ::String) at .\\loading.jl:1091"
     ]
    }
   ],
   "source": [
    "if length(ARGS) != 1\n",
    "    error(\"Pass xyz file as argument\")\n",
    "end\n",
    "xyz_filename = ARGS[1]\n",
    "atoms = read_xyz(joinpath(homedir(), \"Documents\", \"Grad School\", \"Research\", xyz_filename))"
   ]
  },
  {
   "cell_type": "code",
   "execution_count": 186,
   "metadata": {},
   "outputs": [
    {
     "data": {
      "text/plain": [
       "Atoms{Cart}(29, [:O, :C, :O, :C, :H, :C, :C, :N, :N, :C  …  :C, :C, :C, :H, :H, :H, :H, :O, :O, :H], Cart([1.8979 0.655 … 2.8537 0.9385; 3.4866 4.0003 … 13.3672 14.818; 0.8982 0.7805 … 0.1986 0.7708]))"
      ]
     },
     "execution_count": 186,
     "metadata": {},
     "output_type": "execute_result"
    }
   ],
   "source": []
  },
  {
   "cell_type": "code",
   "execution_count": 187,
   "metadata": {},
   "outputs": [
    {
     "data": {
      "text/plain": [
       "Atoms{Frac}(29, [:O, :C, :O, :C, :H, :C, :C, :N, :N, :C  …  :C, :C, :C, :H, :H, :H, :H, :O, :O, :H], Frac([0.12652666666666662 0.04366666666666665 … 0.1902466666666666 0.0625666666666666; 0.23244 0.2666866666666667 … 0.8911466666666666 0.9878666666666667; 0.059879999999999996 0.05203333333333333 … 0.01324 0.05138666666666667]))"
      ]
     },
     "execution_count": 187,
     "metadata": {},
     "output_type": "execute_result"
    }
   ],
   "source": [
    "box = Box(15.0,15.0,15.0)\n",
    "atoms=Frac(atoms, box)"
   ]
  },
  {
   "cell_type": "code",
   "execution_count": 188,
   "metadata": {
    "scrolled": true
   },
   "outputs": [
    {
     "data": {
      "text/plain": [
       "Name: NewTest.cif\n",
       "Bravais unit cell of a crystal.\n",
       "\tUnit cell angles α = 90.000000 deg. β = 90.000000 deg. γ = 90.000000 deg.\n",
       "\tUnit cell dimensions a = 15.000000 Å. b = 15.000000 Å, c = 15.000000 Å\n",
       "\tVolume of unit cell: 3375.000000 Å³\n",
       "\n",
       "\t# atoms = 29\n",
       "\t# charges = 0\n",
       "\tchemical formula: Dict(:N => 2,:H => 12,:O => 4,:C => 11)\n",
       "\tspace Group: P1\n",
       "\tsymmetry Operations:\n",
       "\t\t'x, y, z'\n"
      ]
     },
     "execution_count": 188,
     "metadata": {},
     "output_type": "execute_result"
    }
   ],
   "source": [
    "crystal = Crystal(\"NewTest.cif\", box, atoms, Charges{Frac}(0))"
   ]
  },
  {
   "cell_type": "code",
   "execution_count": 189,
   "metadata": {},
   "outputs": [],
   "source": [
    "infer_bonds!(crystal, false)"
   ]
  },
  {
   "cell_type": "code",
   "execution_count": 190,
   "metadata": {},
   "outputs": [
    {
     "data": {
      "text/plain": [
       "{29, 30} undirected simple Int64 graph"
      ]
     },
     "execution_count": 190,
     "metadata": {},
     "output_type": "execute_result"
    }
   ],
   "source": [
    "Graph(crystal.bonds)\n",
    "#Graph(edges(crystal.bonds))"
   ]
  },
  {
   "cell_type": "code",
   "execution_count": 191,
   "metadata": {},
   "outputs": [],
   "source": [
    "#typeof(crystal.bonds)\n",
    "#edges(crystal.bonds)"
   ]
  },
  {
   "cell_type": "code",
   "execution_count": 192,
   "metadata": {
    "scrolled": false
   },
   "outputs": [
    {
     "name": "stdout",
     "output_type": "stream",
     "text": [
      "Edge 1 => 2\n",
      "atom O is connected to C\n",
      "Edge 1 => 5\n",
      "atom O is connected to H\n",
      "Edge 2 => 3\n",
      "atom C is connected to O\n",
      "Edge 2 => 4\n",
      "atom C is connected to C\n",
      "Edge 4 => 6\n",
      "atom C is connected to C\n",
      "Edge 4 => 9\n",
      "atom C is connected to N\n",
      "Edge 4 => 16\n",
      "atom C is connected to H\n",
      "Edge 6 => 7\n",
      "atom C is connected to C\n",
      "Edge 6 => 13\n",
      "atom C is connected to H\n",
      "Edge 6 => 15\n",
      "atom C is connected to H\n",
      "Edge 7 => 8\n",
      "atom C is connected to N\n",
      "Edge 7 => 10\n",
      "atom C is connected to C\n",
      "Edge 7 => 14\n",
      "atom C is connected to H\n",
      "Edge 8 => 9\n",
      "atom N is connected to N\n",
      "Edge 8 => 12\n",
      "atom N is connected to H\n",
      "Edge 9 => 11\n",
      "atom N is connected to H\n",
      "Edge 10 => 17\n",
      "atom C is connected to C\n",
      "Edge 10 => 21\n",
      "atom C is connected to C\n",
      "Edge 17 => 18\n",
      "atom C is connected to C\n",
      "Edge 17 => 24\n",
      "atom C is connected to H\n",
      "Edge 18 => 19\n",
      "atom C is connected to C\n",
      "Edge 18 => 23\n",
      "atom C is connected to H\n",
      "Edge 19 => 20\n",
      "atom C is connected to C\n",
      "Edge 19 => 22\n",
      "atom C is connected to C\n",
      "Edge 20 => 21\n",
      "atom C is connected to C\n",
      "Edge 20 => 26\n",
      "atom C is connected to H\n",
      "Edge 21 => 25\n",
      "atom C is connected to H\n",
      "Edge 22 => 27\n",
      "atom C is connected to O\n",
      "Edge 22 => 28\n",
      "atom C is connected to O\n",
      "Edge 27 => 29\n",
      "atom O is connected to H\n"
     ]
    }
   ],
   "source": [
    "for ed in edges(crystal.bonds)\n",
    "   \n",
    "    println(ed)\n",
    "    i = ed.src\n",
    "    j = ed.dst\n",
    "       \n",
    "    species_i = crystal.atoms.species[i]\n",
    "    species_j = crystal.atoms.species[j]\n",
    "    println(\"atom \", species_i, \" is connected to \", species_j)\n",
    "    \n",
    "\n",
    "end"
   ]
  },
  {
   "cell_type": "code",
   "execution_count": 193,
   "metadata": {},
   "outputs": [
    {
     "data": {
      "text/plain": [
       ":C"
      ]
     },
     "execution_count": 193,
     "metadata": {},
     "output_type": "execute_result"
    }
   ],
   "source": [
    "#crystal.atoms.species[2]\n",
    "#nbs = neighbors(crystal.bonds, 1)\n",
    "crystal.atoms.species[2]"
   ]
  },
  {
   "cell_type": "code",
   "execution_count": 194,
   "metadata": {},
   "outputs": [
    {
     "data": {
      "text/plain": [
       "identify_carboxyl (generic function with 1 method)"
      ]
     },
     "execution_count": 194,
     "metadata": {},
     "output_type": "execute_result"
    }
   ],
   "source": [
    "### Function to identify carboxyl. When species is carbon, checks if it has two oxygen neighbors. \n",
    "### If it does, returns oxygen id's, anchor id, and oxygen's hydrogen id\n",
    "\n",
    "function identify_carboxyl(crystal::Crystal, a::Int64)\n",
    "   \n",
    "    species = crystal.atoms.species[a]    #Identify species of selected atom\n",
    "    nbs = neighbors(crystal.bonds, a)     #Identify neighbors of atom\n",
    "    \n",
    "    if species == :C                      #Identifying carboxylate starts with carbon\n",
    "        oxygen_counter = 0\n",
    "        oxygen_id = Int64[]\n",
    "        X_id = 0\n",
    "        H_id = 0\n",
    "        for nb in nbs                     #Iterating through neighbors via identifying number\n",
    "            species_nb = crystal.atoms.species[nb] #Get species of neighbor\n",
    "            if species_nb == :O\n",
    "                \n",
    "                next_nbs = neighbors(crystal.bonds, nb)  #Get neighbors of oxygen (finding hydrogen)\n",
    "                \n",
    "                for next_nb in next_nbs\n",
    "                    species_next_nb = crystal.atoms.species[next_nb]  #Get species of oxygen's neighbors\n",
    "                    if species_next_nb == :H     #Identify hydrogen neighbor\n",
    "                        H_id = next_nb\n",
    "                    else\n",
    "                    end\n",
    "                end\n",
    "                \n",
    "                oxygen_counter += 1\n",
    "                push!(oxygen_id, nb)         #Enter oxygen id into array\n",
    "            else\n",
    "                X_id = nb            #If neighbor of carboxylate carbon isn't oxygen, must be anchor\n",
    "            end\n",
    "        end\n",
    "        \n",
    "        if oxygen_counter == 2   #Assuming carboxylate carbon is only carbon with two oxygens bonded\n",
    "        \n",
    "            return true, oxygen_id, X_id, H_id\n",
    "        else \n",
    "            return false, [], 0, 0\n",
    "        end\n",
    "    else\n",
    "        return false, [], 0, 0\n",
    "    end\n",
    "\n",
    "end"
   ]
  },
  {
   "cell_type": "code",
   "execution_count": 195,
   "metadata": {},
   "outputs": [
    {
     "data": {
      "text/plain": [
       "(true, [1, 3], 4, 5)"
      ]
     },
     "execution_count": 195,
     "metadata": {},
     "output_type": "execute_result"
    }
   ],
   "source": [
    "identify_carboxyl(crystal, 2)"
   ]
  },
  {
   "cell_type": "code",
   "execution_count": null,
   "metadata": {},
   "outputs": [],
   "source": []
  },
  {
   "cell_type": "code",
   "execution_count": 196,
   "metadata": {},
   "outputs": [],
   "source": [
    "#\n",
    "\n",
    "keep = [true for i = 1:crystal.atoms.n]\n",
    "\n",
    "for a = 1:crystal.atoms.n\n",
    "       \n",
    "   \n",
    "\n",
    "    is_carboxyl, oxygen_ids, X_id, H_id = identify_carboxyl(crystal, a)\n",
    "    \n",
    "    if is_carboxyl == true \n",
    "    \n",
    "        crystal.atoms.species[X_id] = :X\n",
    "        @assert length(oxygen_ids) == 2\n",
    "        keep[oxygen_ids] .= false\n",
    "        keep[a] = false\n",
    "        keep[H_id] = false\n",
    "        \n",
    "    end\n",
    "\n",
    "\n",
    "end"
   ]
  },
  {
   "cell_type": "code",
   "execution_count": 197,
   "metadata": {},
   "outputs": [
    {
     "name": "stdout",
     "output_type": "stream",
     "text": [
      "Edge 1 => 2\n",
      "atom O is connected to C\n",
      "Edge 1 => 5\n",
      "atom O is connected to H\n",
      "Edge 2 => 3\n",
      "atom C is connected to O\n",
      "Edge 2 => 4\n",
      "atom C is connected to X\n",
      "Edge 4 => 6\n",
      "atom X is connected to C\n",
      "Edge 4 => 9\n",
      "atom X is connected to N\n",
      "Edge 4 => 16\n",
      "atom X is connected to H\n",
      "Edge 6 => 7\n",
      "atom C is connected to C\n",
      "Edge 6 => 13\n",
      "atom C is connected to H\n",
      "Edge 6 => 15\n",
      "atom C is connected to H\n",
      "Edge 7 => 8\n",
      "atom C is connected to N\n",
      "Edge 7 => 10\n",
      "atom C is connected to C\n",
      "Edge 7 => 14\n",
      "atom C is connected to H\n",
      "Edge 8 => 9\n",
      "atom N is connected to N\n",
      "Edge 8 => 12\n",
      "atom N is connected to H\n",
      "Edge 9 => 11\n",
      "atom N is connected to H\n",
      "Edge 10 => 17\n",
      "atom C is connected to C\n",
      "Edge 10 => 21\n",
      "atom C is connected to C\n",
      "Edge 17 => 18\n",
      "atom C is connected to C\n",
      "Edge 17 => 24\n",
      "atom C is connected to H\n",
      "Edge 18 => 19\n",
      "atom C is connected to X\n",
      "Edge 18 => 23\n",
      "atom C is connected to H\n",
      "Edge 19 => 20\n",
      "atom X is connected to C\n",
      "Edge 19 => 22\n",
      "atom X is connected to C\n",
      "Edge 20 => 21\n",
      "atom C is connected to C\n",
      "Edge 20 => 26\n",
      "atom C is connected to H\n",
      "Edge 21 => 25\n",
      "atom C is connected to H\n",
      "Edge 22 => 27\n",
      "atom C is connected to O\n",
      "Edge 22 => 28\n",
      "atom C is connected to O\n",
      "Edge 27 => 29\n",
      "atom O is connected to H\n"
     ]
    }
   ],
   "source": [
    "for ed in edges(crystal.bonds)\n",
    "   \n",
    "    println(ed)\n",
    "    i = ed.src\n",
    "    j = ed.dst\n",
    "       \n",
    "    species_i = crystal.atoms.species[i]\n",
    "    species_j = crystal.atoms.species[j]\n",
    "    println(\"atom \", species_i, \" is connected to \", species_j)\n",
    "    \n",
    "\n",
    "end"
   ]
  },
  {
   "cell_type": "code",
   "execution_count": null,
   "metadata": {},
   "outputs": [],
   "source": []
  },
  {
   "cell_type": "code",
   "execution_count": 198,
   "metadata": {},
   "outputs": [
    {
     "data": {
      "text/plain": [
       "Atoms{Frac}(21, [:X, :C, :C, :N, :N, :C, :H, :H, :H, :H  …  :H, :C, :C, :X, :C, :C, :H, :H, :H, :H], Frac([0.026193333333333315 0.07628666666666664 … 0.18547999999999998 0.22455999999999993; 0.34368 0.4270933333333333 … 0.5731733333333333 0.7288666666666667; -0.01016 0.015233333333333333 … -0.05088666666666666 -0.02521333333333333]))"
      ]
     },
     "execution_count": 198,
     "metadata": {},
     "output_type": "execute_result"
    }
   ],
   "source": [
    "#Make a boolean array to keep atoms. \n",
    "crystal.atoms[keep]"
   ]
  },
  {
   "cell_type": "code",
   "execution_count": 199,
   "metadata": {},
   "outputs": [
    {
     "data": {
      "text/plain": [
       "Atoms{Frac}(21, [:X, :C, :C, :N, :N, :C, :H, :H, :H, :H  …  :H, :C, :C, :X, :C, :C, :H, :H, :H, :H], Frac([0.026193333333333315 0.07628666666666664 … 0.18547999999999998 0.22455999999999993; 0.34368 0.4270933333333333 … 0.5731733333333333 0.7288666666666667; -0.01016 0.015233333333333333 … -0.05088666666666666 -0.02521333333333333]))"
      ]
     },
     "execution_count": 199,
     "metadata": {},
     "output_type": "execute_result"
    }
   ],
   "source": [
    "tobacco_crystal = crystal.atoms[keep]"
   ]
  },
  {
   "cell_type": "code",
   "execution_count": 200,
   "metadata": {},
   "outputs": [],
   "source": [
    "write_cif(crystal, \"tobacco_crystal.cif\")"
   ]
  },
  {
   "cell_type": "code",
   "execution_count": 201,
   "metadata": {},
   "outputs": [
    {
     "data": {
      "text/plain": [
       "Name: NewTest.cif\n",
       "Bravais unit cell of a crystal.\n",
       "\tUnit cell angles α = 90.000000 deg. β = 90.000000 deg. γ = 90.000000 deg.\n",
       "\tUnit cell dimensions a = 15.000000 Å. b = 15.000000 Å, c = 15.000000 Å\n",
       "\tVolume of unit cell: 3375.000000 Å³\n",
       "\n",
       "\t# atoms = 29\n",
       "\t# charges = 0\n",
       "\tchemical formula: Dict(:N => 2,:H => 12,:X => 2,:O => 4,:C => 9)\n",
       "\tspace Group: P1\n",
       "\tsymmetry Operations:\n",
       "\t\t'x, y, z'\n"
      ]
     },
     "execution_count": 201,
     "metadata": {},
     "output_type": "execute_result"
    }
   ],
   "source": [
    "crystal"
   ]
  },
  {
   "cell_type": "code",
   "execution_count": 202,
   "metadata": {},
   "outputs": [],
   "source": [
    "write_cif(crystal, \"tobacco_crystal.cif\")"
   ]
  },
  {
   "cell_type": "code",
   "execution_count": 203,
   "metadata": {},
   "outputs": [],
   "source": [
    "#infer_bonds!(tobacco_crystal, true)\n",
    "#remove_bonds!(tobacco_crystal)"
   ]
  },
  {
   "cell_type": "code",
   "execution_count": 204,
   "metadata": {
    "scrolled": true
   },
   "outputs": [
    {
     "data": {
      "text/plain": [
       "Name: tobacco_crystal_2.cif\n",
       "Bravais unit cell of a crystal.\n",
       "\tUnit cell angles α = 90.000000 deg. β = 90.000000 deg. γ = 90.000000 deg.\n",
       "\tUnit cell dimensions a = 15.000000 Å. b = 15.000000 Å, c = 15.000000 Å\n",
       "\tVolume of unit cell: 3375.000000 Å³\n",
       "\n",
       "\t# atoms = 21\n",
       "\t# charges = 0\n",
       "\tchemical formula: Dict(:N => 2,:H => 10,:X => 2,:C => 7)\n",
       "\tspace Group: P1\n",
       "\tsymmetry Operations:\n",
       "\t\t'x, y, z'\n"
      ]
     },
     "execution_count": 204,
     "metadata": {},
     "output_type": "execute_result"
    }
   ],
   "source": [
    "tobacco_crystal = Crystal(\"tobacco_crystal_2.cif\", box, atoms[keep], Charges{Frac}(0))"
   ]
  },
  {
   "cell_type": "code",
   "execution_count": 205,
   "metadata": {},
   "outputs": [
    {
     "data": {
      "text/plain": [
       "center_mass (generic function with 1 method)"
      ]
     },
     "execution_count": 205,
     "metadata": {},
     "output_type": "execute_result"
    }
   ],
   "source": [
    "function center_mass(crystal::Crystal)\n",
    "    xf_cm = sum(crystal.atoms.coords.xf, dims = 2)\n",
    "    frctn_xf_cm = xf_cm ./ crystal.atoms.n\n",
    "    new_coords = crystal.atoms.coords.xf .- frctn_xf_cm\n",
    "    crystal.atoms.coords.xf .= mod.(crystal.atoms.coords.xf, 1)\n",
    "    crystal.atoms.coords.xf .= new_coords\n",
    "    \n",
    "    return crystal\n",
    "end"
   ]
  },
  {
   "cell_type": "code",
   "execution_count": 206,
   "metadata": {},
   "outputs": [
    {
     "data": {
      "text/plain": [
       "Name: tobacco_crystal_2.cif\n",
       "Bravais unit cell of a crystal.\n",
       "\tUnit cell angles α = 90.000000 deg. β = 90.000000 deg. γ = 90.000000 deg.\n",
       "\tUnit cell dimensions a = 15.000000 Å. b = 15.000000 Å, c = 15.000000 Å\n",
       "\tVolume of unit cell: 3375.000000 Å³\n",
       "\n",
       "\t# atoms = 21\n",
       "\t# charges = 0\n",
       "\tchemical formula: Dict(:N => 2,:H => 10,:X => 2,:C => 7)\n",
       "\tspace Group: P1\n",
       "\tsymmetry Operations:\n",
       "\t\t'x, y, z'\n"
      ]
     },
     "execution_count": 206,
     "metadata": {},
     "output_type": "execute_result"
    }
   ],
   "source": [
    "tobacco_crystal = center_mass(tobacco_crystal)"
   ]
  },
  {
   "cell_type": "code",
   "execution_count": 207,
   "metadata": {},
   "outputs": [
    {
     "data": {
      "text/plain": [
       "Atoms{Frac}(21, [:X, :C, :C, :N, :N, :C, :H, :H, :H, :H  …  :H, :C, :C, :X, :C, :C, :H, :H, :H, :H], Frac([-0.01035746031746031 0.039735873015873016 … 0.14892920634920637 0.18800920634920631; -0.19958476190476193 -0.11617142857142859 … 0.029908571428571396 0.18560190476190475; 0.003787936507936506 0.02918126984126984 … -0.03693873015873016 -0.011265396825396824]))"
      ]
     },
     "execution_count": 207,
     "metadata": {},
     "output_type": "execute_result"
    }
   ],
   "source": [
    "tobacco_crystal.atoms"
   ]
  },
  {
   "cell_type": "code",
   "execution_count": 224,
   "metadata": {},
   "outputs": [
    {
     "ename": "LoadError",
     "evalue": "error in method definition: function PorousMaterials.write_cif must be explicitly imported to be extended",
     "output_type": "error",
     "traceback": [
      "error in method definition: function PorousMaterials.write_cif must be explicitly imported to be extended",
      "",
      "Stacktrace:",
      " [1] top-level scope at none:0",
      " [2] top-level scope at In[224]:1",
      " [3] include_string(::Function, ::Module, ::String, ::String) at .\\loading.jl:1091"
     ]
    }
   ],
   "source": []
  },
  {
   "cell_type": "code",
   "execution_count": 258,
   "metadata": {},
   "outputs": [
    {
     "data": {
      "text/plain": [
       "write_cif_Kai"
      ]
     },
     "execution_count": 258,
     "metadata": {},
     "output_type": "execute_result"
    }
   ],
   "source": [
    "\"\"\"\n",
    "    write_cif(crystal, filename; fractional_coords=true, number_atoms=true)\n",
    "Write a `crystal::Crystal` to a .cif file with `filename::AbstractString`. If `filename` does\n",
    "not include the .cif extension, it will automatically be added. the `fractional_coords` flag\n",
    "allows us to write either fractional or Cartesian coordinates.\n",
    "\"\"\"\n",
    "function write_cif_Kai(crystal::Crystal, filename::AbstractString; fractional_coords::Bool=true,\n",
    "\t\t   number_atoms::Bool=true)\n",
    "    if has_charges(crystal)\n",
    "        if crystal.atoms.n != crystal.charges.n\n",
    "            error(\"write_cif assumes equal numbers of Charges and Atoms (or zero charges)\")\n",
    "        end\n",
    "        if ! isapprox(crystal.charges.coords, crystal.atoms.coords)\n",
    "            error(\"write_cif needs coords of atoms and charges to correspond.\")\n",
    "        end\n",
    "    end\n",
    "\n",
    "    # TODO is this labeling necessary for the bonds, arthur?\n",
    "    # create dictionary for tracking label numbers\n",
    "    label_numbers = Dict{Symbol, Int}()\n",
    "    for atom in crystal.atoms.species\n",
    "        if !haskey(label_numbers, atom)\n",
    "            label_numbers[atom] = 1\n",
    "        end\n",
    "    end\n",
    "\n",
    "    # append \".cif\" to filename if it doesn't already have the extension\n",
    "    if ! occursin(\".cif\", filename)\n",
    "        filename *= \".cif\"\n",
    "    end\n",
    "    cif_file = open(filename, \"w\")\n",
    "    # first line should be data_xtalname_PM\n",
    "    if crystal.name == \"\"\n",
    "        @printf(cif_file, \"data_PM\\n\")\n",
    "    else\n",
    "        # don't include file extension!\n",
    "        @printf(cif_file, \"data_%s_PM\\n\", split(crystal.name, \".\")[1])\n",
    "    end\n",
    "\n",
    "    @printf(cif_file, \"_symmetry_space_group_name_H-M\\t'%s'\\n\", crystal.symmetry.space_group)\n",
    "\n",
    "    @printf(cif_file, \"_cell_length_a\\t%f\\n\", crystal.box.a)\n",
    "    @printf(cif_file, \"_cell_length_b\\t%f\\n\", crystal.box.b)\n",
    "    @printf(cif_file, \"_cell_length_c\\t%f\\n\", crystal.box.c)\n",
    "\n",
    "    @printf(cif_file, \"_cell_angle_alpha\\t%f\\n\", crystal.box.α * 180.0 / pi)\n",
    "    @printf(cif_file, \"_cell_angle_beta\\t%f\\n\", crystal.box.β * 180.0 / pi)\n",
    "    @printf(cif_file, \"_cell_angle_gamma\\t%f\\n\", crystal.box.γ * 180.0 / pi)\n",
    "\n",
    "    @printf(cif_file, \"_symmetry_Int_Tables_number 1\\n\\n\")\n",
    "    @printf(cif_file, \"loop_\\n_symmetry_equiv_pos_as_xyz\\n\")\n",
    "    for i in 1:size(crystal.symmetry.operations, 2)\n",
    "        @printf(cif_file, \"'%s,%s,%s'\\n\", crystal.symmetry.operations[:, i]...)\n",
    "    end\n",
    "    @printf(cif_file, \"\\n\")\n",
    "\n",
    "    @printf(cif_file, \"loop_\\n_atom_site_label\\n_atom_site_type_symbol\\n\")\n",
    "    if fractional_coords\n",
    "        @printf(cif_file, \"_atom_site_fract_x\\n_atom_site_fract_y\\n_atom_site_fract_z\\n\")\n",
    "    else\n",
    "        @printf(cif_file, \"_atom_site_Cartn_x\\n_atom_site_Cartn_y\\n_atom_site_Cartn_z\\n\")\n",
    "    end\n",
    "    high_precision_charges = false # if, for neutrality, need high-precision charges\n",
    "    if has_charges(crystal)\n",
    "        @printf(cif_file, \"_atom_site_charge\\n\")\n",
    "        # if crystal will not be charge neutral to a 1e-5 tolerance when loading it\n",
    "        #    into PorousMaterials.jl, then write higher-precision charges\n",
    "        if abs(sum(round.(crystal.charges.q, digits=6))) > NET_CHARGE_TOL\n",
    "            @info \"writing high-precision charges for \" * filename * \".\\n\"\n",
    "            high_precision_charges = true\n",
    "        end\n",
    "    end\n",
    "\n",
    "    idx_to_label = Array{AbstractString, 1}(undef, crystal.atoms.n)\n",
    "    for i = 1:crystal.atoms.n\n",
    "        # print label and type symbol\n",
    "        \n",
    "        if crystal.atoms.species[i] == :X\n",
    "            @printf(cif_file, \"%s\\t%s\\t\", string(crystal.atoms.species[i]) *\n",
    "                (number_atoms ? string(label_numbers[crystal.atoms.species[i]]) : \"\"),\n",
    "                \"C\")\n",
    "        else\n",
    "            @printf(cif_file, \"%s\\t%s\\t\", string(crystal.atoms.species[i]) *\n",
    "                (number_atoms ? string(label_numbers[crystal.atoms.species[i]]) : \"\"),\n",
    "                crystal.atoms.species[i])\n",
    "        end\n",
    "        \n",
    "        # store label for this atom idx\n",
    "        idx_to_label[i] = string(crystal.atoms.species[i]) *\n",
    "                    string(label_numbers[crystal.atoms.species[i]])\n",
    "        # increment label\n",
    "        label_numbers[crystal.atoms.species[i]] += 1\n",
    "        if fractional_coords\n",
    "            @printf(cif_file, \"%f\\t%f\\t%f\", crystal.atoms.coords.xf[:, i]...)\n",
    "        else\n",
    "            @printf(cif_file, \"%f\\t%f\\t%f\", (crystal.box.f_to_c * crystal.atoms.coords.xf[:, i])...)\n",
    "        end\n",
    "        if has_charges(crystal)\n",
    "            if high_precision_charges\n",
    "                @printf(cif_file, \"\\t%.10f\\n\", crystal.charges.q[i])\n",
    "            else\n",
    "                @printf(cif_file, \"\\t%f\\n\", crystal.charges.q[i])\n",
    "            end\n",
    "        else\n",
    "            @printf(cif_file, \"\\n\")\n",
    "        end\n",
    "    end\n",
    "\n",
    "    # only print bond information if it is in the crystal\n",
    "    if ne(crystal.bonds) > 0\n",
    "        if ! number_atoms\n",
    "             error(\"must label atoms with numbers to write bond information.\\n\")\n",
    "        end\n",
    "        # print column names for bond information\n",
    "        @printf(cif_file, \"\\nloop_\\n_geom_bond_atom_site_label_1\\n_geom_bond_atom_site_label_2\\n_geom_bond_distance\\n_ccdc_geom_bond_type\\n\")\n",
    "\n",
    "        for edge in collect(edges(crystal.bonds))\n",
    "            dxf = crystal.atoms.coords.xf[:, edge.src] - crystal.atoms.coords.xf[:, edge.dst]\n",
    "            nearest_image!(dxf)\n",
    "            @printf(cif_file, \"%s\\t%s\\t%0.5f\\t%s\\n\", idx_to_label[edge.src], idx_to_label[edge.dst],\n",
    "                    norm(dxf), \". A\")\n",
    "        end\n",
    "    end\n",
    "    close(cif_file)\n",
    "end"
   ]
  },
  {
   "cell_type": "code",
   "execution_count": 259,
   "metadata": {},
   "outputs": [],
   "source": [
    "write_cif_Kai(tobacco_crystal, \"tobacco_crystal_2.cif\")"
   ]
  },
  {
   "cell_type": "code",
   "execution_count": 260,
   "metadata": {},
   "outputs": [
    {
     "ename": "LoadError",
     "evalue": "AssertionError: The crystal tobacco_crystal_2.cif already has bonds. Remove them with the `remove_bonds!` function before inferring new ones.",
     "output_type": "error",
     "traceback": [
      "AssertionError: The crystal tobacco_crystal_2.cif already has bonds. Remove them with the `remove_bonds!` function before inferring new ones.",
      "",
      "Stacktrace:",
      " [1] infer_bonds!(::Crystal, ::Bool, ::Array{BondingRule,1}) at C:\\Users\\kgeri\\.julia\\packages\\PorousMaterials\\N5159\\src\\bonds.jl:126 (repeats 2 times)",
      " [2] top-level scope at In[260]:1",
      " [3] include_string(::Function, ::Module, ::String, ::String) at .\\loading.jl:1091"
     ]
    }
   ],
   "source": [
    "infer_bonds!(tobacco_crystal, true)"
   ]
  },
  {
   "cell_type": "code",
   "execution_count": 263,
   "metadata": {},
   "outputs": [],
   "source": [
    "write_cif_Kai(tobacco_crystal, \"tobacco_crystal_3.cif\")"
   ]
  },
  {
   "cell_type": "code",
   "execution_count": 262,
   "metadata": {},
   "outputs": [
    {
     "name": "stdout",
     "output_type": "stream",
     "text": [
      "Saving bond information for crystal tobacco_crystal_2.cif to C:\\Users\\kgeri\\tobacco_crystal_2_bonds.vtk.\n"
     ]
    }
   ],
   "source": [
    "write_bond_information(tobacco_crystal)"
   ]
  },
  {
   "cell_type": "code",
   "execution_count": 179,
   "metadata": {},
   "outputs": [
    {
     "ename": "LoadError",
     "evalue": "type Atoms has no field species_col",
     "output_type": "error",
     "traceback": [
      "type Atoms has no field species_col",
      "",
      "Stacktrace:",
      " [1] getproperty(::Atoms{Frac}, ::Symbol) at .\\Base.jl:33",
      " [2] top-level scope at In[179]:1",
      " [3] include_string(::Function, ::Module, ::String, ::String) at .\\loading.jl:1091"
     ]
    }
   ],
   "source": [
    "crystal.atoms.species_col"
   ]
  },
  {
   "cell_type": "code",
   "execution_count": null,
   "metadata": {},
   "outputs": [],
   "source": []
  },
  {
   "cell_type": "code",
   "execution_count": null,
   "metadata": {},
   "outputs": [],
   "source": []
  },
  {
   "cell_type": "code",
   "execution_count": null,
   "metadata": {},
   "outputs": [],
   "source": []
  },
  {
   "cell_type": "code",
   "execution_count": null,
   "metadata": {},
   "outputs": [],
   "source": []
  },
  {
   "cell_type": "code",
   "execution_count": null,
   "metadata": {},
   "outputs": [],
   "source": []
  },
  {
   "cell_type": "code",
   "execution_count": null,
   "metadata": {},
   "outputs": [],
   "source": []
  },
  {
   "cell_type": "code",
   "execution_count": null,
   "metadata": {},
   "outputs": [],
   "source": []
  },
  {
   "cell_type": "code",
   "execution_count": null,
   "metadata": {},
   "outputs": [],
   "source": []
  },
  {
   "cell_type": "code",
   "execution_count": null,
   "metadata": {},
   "outputs": [],
   "source": []
  },
  {
   "cell_type": "code",
   "execution_count": null,
   "metadata": {},
   "outputs": [],
   "source": []
  },
  {
   "cell_type": "code",
   "execution_count": null,
   "metadata": {},
   "outputs": [],
   "source": []
  },
  {
   "cell_type": "code",
   "execution_count": null,
   "metadata": {},
   "outputs": [],
   "source": []
  },
  {
   "cell_type": "code",
   "execution_count": null,
   "metadata": {},
   "outputs": [],
   "source": []
  },
  {
   "cell_type": "code",
   "execution_count": null,
   "metadata": {},
   "outputs": [],
   "source": []
  },
  {
   "cell_type": "code",
   "execution_count": null,
   "metadata": {},
   "outputs": [],
   "source": []
  },
  {
   "cell_type": "code",
   "execution_count": null,
   "metadata": {},
   "outputs": [],
   "source": []
  },
  {
   "cell_type": "code",
   "execution_count": null,
   "metadata": {},
   "outputs": [],
   "source": []
  },
  {
   "cell_type": "code",
   "execution_count": null,
   "metadata": {},
   "outputs": [],
   "source": []
  },
  {
   "cell_type": "code",
   "execution_count": null,
   "metadata": {},
   "outputs": [],
   "source": []
  },
  {
   "cell_type": "code",
   "execution_count": null,
   "metadata": {},
   "outputs": [],
   "source": []
  },
  {
   "cell_type": "code",
   "execution_count": null,
   "metadata": {},
   "outputs": [],
   "source": []
  }
 ],
 "metadata": {
  "kernelspec": {
   "display_name": "Julia 1.5.3",
   "language": "julia",
   "name": "julia-1.5"
  },
  "language_info": {
   "file_extension": ".jl",
   "mimetype": "application/julia",
   "name": "julia",
   "version": "1.5.3"
  }
 },
 "nbformat": 4,
 "nbformat_minor": 2
}
