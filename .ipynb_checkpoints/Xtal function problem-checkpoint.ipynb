{
 "cells": [
  {
   "cell_type": "code",
   "execution_count": 11,
   "metadata": {
    "scrolled": true
   },
   "outputs": [
    {
     "name": "stdout",
     "output_type": "stream",
     "text": [
      "\u001b[?25l"
     ]
    },
    {
     "name": "stderr",
     "output_type": "stream",
     "text": [
      "\u001b[32m\u001b[1m   Updating\u001b[22m\u001b[39m git-repo `https://github.com/SimonEnsemble/Xtals.jl.git`\n"
     ]
    },
    {
     "name": "stdout",
     "output_type": "stream",
     "text": [
      "\u001b[2K\u001b[?25h"
     ]
    },
    {
     "name": "stderr",
     "output_type": "stream",
     "text": [
      "\u001b[32m\u001b[1m   Updating\u001b[22m\u001b[39m registry at `C:\\Users\\kgeri\\.julia\\registries\\General`"
     ]
    },
    {
     "name": "stdout",
     "output_type": "stream",
     "text": [
      "\u001b[?25l"
     ]
    },
    {
     "name": "stderr",
     "output_type": "stream",
     "text": [
      "\n",
      "\u001b[32m\u001b[1m   Updating\u001b[22m\u001b[39m git-repo `https://github.com/JuliaRegistries/General.git`\n"
     ]
    },
    {
     "name": "stdout",
     "output_type": "stream",
     "text": [
      "    \u001b[36m\u001b[1mFetching:\u001b[22m\u001b[39m [>                                        ]  0.0 %\r",
      "    \u001b[36m\u001b[1mFetching:\u001b[22m\u001b[39m [===>                                     ]  7.1 %\r",
      "    \u001b[36m\u001b[1mFetching:\u001b[22m\u001b[39m [======>                                  ]  14.3 %\r",
      "    \u001b[36m\u001b[1mFetching:\u001b[22m\u001b[39m [=========>                               ]  21.4 %\r",
      "    \u001b[36m\u001b[1mFetching:\u001b[22m\u001b[39m [============>                            ]  28.6 %\r",
      "    \u001b[36m\u001b[1mFetching:\u001b[22m\u001b[39m [===============>                         ]  35.7 %\r",
      "    \u001b[36m\u001b[1mFetching:\u001b[22m\u001b[39m [==================>                      ]  42.9 %\r",
      "    \u001b[36m\u001b[1mFetching:\u001b[22m\u001b[39m [====================>                    ]  50.0 %\r",
      "    \u001b[36m\u001b[1mFetching:\u001b[22m\u001b[39m [=======================>                 ]  57.1 %\r",
      "    \u001b[36m\u001b[1mFetching:\u001b[22m\u001b[39m [==========================>              ]  64.3 %\r",
      "    \u001b[36m\u001b[1mFetching:\u001b[22m\u001b[39m [=============================>           ]  71.4 %\r",
      "    \u001b[36m\u001b[1mFetching:\u001b[22m\u001b[39m [================================>        ]  78.6 %\r",
      "    \u001b[36m\u001b[1mFetching:\u001b[22m\u001b[39m [===================================>     ]  85.7 %\r",
      "    \u001b[36m\u001b[1mFetching:\u001b[22m\u001b[39m [======================================>  ]  92.9 %\r",
      "    \u001b[36m\u001b[1mFetching:\u001b[22m\u001b[39m [========================================>]  100.0 %\r",
      "\u001b[2K\u001b[?25h"
     ]
    },
    {
     "name": "stderr",
     "output_type": "stream",
     "text": [
      "\u001b[32m\u001b[1m  Resolving\u001b[22m\u001b[39m package versions...\n",
      "\u001b[32m\u001b[1m  Installed\u001b[22m\u001b[39m MetaGraphs ──────── v0.6.6\n",
      "\u001b[32m\u001b[1m  Installed\u001b[22m\u001b[39m Compat ──────────── v3.25.0\n",
      "\u001b[32m\u001b[1m  Installed\u001b[22m\u001b[39m StructTypes ─────── v1.2.1\n",
      "\u001b[32m\u001b[1m  Installed\u001b[22m\u001b[39m Tables ──────────── v1.2.2\n",
      "\u001b[32m\u001b[1m  Installed\u001b[22m\u001b[39m CategoricalArrays ─ v0.9.0\n",
      "\u001b[32m\u001b[1m  Installed\u001b[22m\u001b[39m IJulia ──────────── v1.23.1\n",
      "\u001b[32m\u001b[1m  Installed\u001b[22m\u001b[39m DataFrames ──────── v0.22.2\n",
      "\u001b[32m\u001b[1m  Installed\u001b[22m\u001b[39m LightGraphs ─────── v1.3.4\n",
      "\u001b[32m\u001b[1m  Installed\u001b[22m\u001b[39m JLD2 ────────────── v0.2.4\n",
      "\u001b[32m\u001b[1m  Installed\u001b[22m\u001b[39m Crayons ─────────── v4.0.4\n",
      "\u001b[32m\u001b[1m  Installed\u001b[22m\u001b[39m Formatting ──────── v0.4.2\n",
      "\u001b[32m\u001b[1m  Installed\u001b[22m\u001b[39m Parsers ─────────── v1.0.15\n",
      "\u001b[32m\u001b[1m  Installed\u001b[22m\u001b[39m PrettyTables ────── v0.10.1\n",
      "\u001b[32m\u001b[1mUpdating\u001b[22m\u001b[39m `C:\\Users\\kgeri\\.julia\\environments\\v1.5\\Project.toml`\n",
      " \u001b[90m [a93c6f00] \u001b[39m\u001b[93m↑ DataFrames v0.20.2 ⇒ v0.22.2\u001b[39m\n",
      " \u001b[90m [7073ff75] \u001b[39m\u001b[93m↑ IJulia v1.23.0 ⇒ v1.23.1\u001b[39m\n",
      " \u001b[90m [093fc24a] \u001b[39m\u001b[93m↑ LightGraphs v1.3.3 ⇒ v1.3.4\u001b[39m\n",
      " \u001b[90m [ede5f01d] \u001b[39m\u001b[92m+ Xtals v0.2.0 `https://github.com/SimonEnsemble/Xtals.jl.git#master`\u001b[39m\n",
      "\u001b[32m\u001b[1mUpdating\u001b[22m\u001b[39m `C:\\Users\\kgeri\\.julia\\environments\\v1.5\\Manifest.toml`\n",
      " \u001b[90m [324d7699] \u001b[39m\u001b[93m↑ CategoricalArrays v0.7.7 ⇒ v0.9.0\u001b[39m\n",
      " \u001b[90m [944b1d66] \u001b[39m\u001b[92m+ CodecZlib v0.7.0\u001b[39m\n",
      " \u001b[90m [34da2185] \u001b[39m\u001b[93m↑ Compat v3.23.0 ⇒ v3.25.0\u001b[39m\n",
      " \u001b[90m [a8cc5b0e] \u001b[39m\u001b[92m+ Crayons v4.0.4\u001b[39m\n",
      " \u001b[90m [a93c6f00] \u001b[39m\u001b[93m↑ DataFrames v0.20.2 ⇒ v0.22.2\u001b[39m\n",
      " \u001b[90m [59287772] \u001b[39m\u001b[92m+ Formatting v0.4.2\u001b[39m\n",
      " \u001b[90m [7073ff75] \u001b[39m\u001b[93m↑ IJulia v1.23.0 ⇒ v1.23.1\u001b[39m\n",
      " \u001b[90m [033835bb] \u001b[39m\u001b[92m+ JLD2 v0.2.4\u001b[39m\n",
      " \u001b[90m [093fc24a] \u001b[39m\u001b[93m↑ LightGraphs v1.3.3 ⇒ v1.3.4\u001b[39m\n",
      " \u001b[90m [626554b9] \u001b[39m\u001b[92m+ MetaGraphs v0.6.6\u001b[39m\n",
      " \u001b[90m [69de0a69] \u001b[39m\u001b[93m↑ Parsers v1.0.12 ⇒ v1.0.15\u001b[39m\n",
      " \u001b[90m [08abe8d2] \u001b[39m\u001b[92m+ PrettyTables v0.10.1\u001b[39m\n",
      " \u001b[90m [438e738f] \u001b[39m\u001b[92m+ PyCall v1.92.1\u001b[39m\n",
      " \u001b[90m [856f2bd8] \u001b[39m\u001b[92m+ StructTypes v1.2.1\u001b[39m\n",
      " \u001b[90m [bd369af6] \u001b[39m\u001b[93m↑ Tables v1.2.1 ⇒ v1.2.2\u001b[39m\n",
      " \u001b[90m [3bb67fe8] \u001b[39m\u001b[92m+ TranscodingStreams v0.9.5\u001b[39m\n",
      " \u001b[90m [ede5f01d] \u001b[39m\u001b[92m+ Xtals v0.2.0 `https://github.com/SimonEnsemble/Xtals.jl.git#master`\u001b[39m\n",
      " \u001b[90m [83775a58] \u001b[39m\u001b[92m+ Zlib_jll v1.2.11+18\u001b[39m\n",
      "\u001b[32m\u001b[1m   Building\u001b[22m\u001b[39m IJulia → `C:\\Users\\kgeri\\.julia\\packages\\IJulia\\IDNmS\\deps\\build.log`\n"
     ]
    }
   ],
   "source": [
    "using Pkg\n",
    "#Pkg.add(\"DataFrames\")\n",
    "#Pkg.add(\"CSV\")\n",
    "#Pkg.rm(\"Xtals\")\n",
    "#Pkg.rm(\"PorousMaterials\")\n",
    "Pkg.add(url = \"https://github.com/SimonEnsemble/Xtals.jl.git\")\n",
    "#Pkg.update(url = \"https://github.com/SimonEnsemble/Xtals.jl.git\")\n"
   ]
  },
  {
   "cell_type": "code",
   "execution_count": 10,
   "metadata": {},
   "outputs": [
    {
     "ename": "LoadError",
     "evalue": "ArgumentError: Package Xtals not found in current path:\n- Run `import Pkg; Pkg.add(\"Xtals\")` to install the Xtals package.\n",
     "output_type": "error",
     "traceback": [
      "ArgumentError: Package Xtals not found in current path:\n- Run `import Pkg; Pkg.add(\"Xtals\")` to install the Xtals package.\n",
      "",
      "Stacktrace:",
      " [1] require(::Module, ::Symbol) at .\\loading.jl:893",
      " [2] include_string(::Function, ::Module, ::String, ::String) at .\\loading.jl:1091"
     ]
    }
   ],
   "source": [
    "using DataFrames\n",
    "using CSV\n",
    "using Printf\n",
    "using Statistics\n",
    "using LinearAlgebra\n",
    "using Xtals\n",
    "using LightGraphs\n",
    "using GraphPlot"
   ]
  },
  {
   "cell_type": "code",
   "execution_count": 2,
   "metadata": {},
   "outputs": [
    {
     "data": {
      "text/plain": [
       "(Atoms{Cart}(50, [:O, :C, :O, :C, :H, :C, :C, :C, :C, :C  …  :H, :H, :H, :H, :H, :C, :H, :O, :O, :H], Cart([1.23 0.078 … 3.055 1.926; -0.92 -0.236 … 16.704 18.572; -0.026 0.139 … -0.556 -0.113])), {50, 53} undirected simple Int64 graph, [1, 1, 2, 1, 5, 5, 5, 1, 1, 5  …  1, 1, 1, 2, 1, 1, 1, 1, 1, 1])"
      ]
     },
     "execution_count": 2,
     "metadata": {},
     "output_type": "execute_result"
    }
   ],
   "source": [
    "atoms, bonds, bondtypes = read_mol(joinpath(homedir(), \"Documents\", \"GitHub\", \"MolecularSynthesis\", \"examples\", \"4.mol\"))"
   ]
  },
  {
   "cell_type": "code",
   "execution_count": 3,
   "metadata": {},
   "outputs": [
    {
     "ename": "LoadError",
     "evalue": "MethodError: no method matching distance(::Atoms{Cart}, ::Int64, ::Int64)\nClosest candidates are:\n  distance(::Atoms, !Matched::Box, ::Int64, !Matched::Int64, !Matched::Bool) at C:\\Users\\kgeri\\.julia\\packages\\Xtals\\QIUgm\\src\\distance.jl:58\n  distance(!Matched::Cart, !Matched::Box, ::Int64, !Matched::Int64, !Matched::Bool) at C:\\Users\\kgeri\\.julia\\packages\\Xtals\\QIUgm\\src\\distance.jl:47\n  distance(!Matched::Frac, !Matched::Box, ::Int64, !Matched::Int64, !Matched::Bool) at C:\\Users\\kgeri\\.julia\\packages\\Xtals\\QIUgm\\src\\distance.jl:39\n  ...",
     "output_type": "error",
     "traceback": [
      "MethodError: no method matching distance(::Atoms{Cart}, ::Int64, ::Int64)\nClosest candidates are:\n  distance(::Atoms, !Matched::Box, ::Int64, !Matched::Int64, !Matched::Bool) at C:\\Users\\kgeri\\.julia\\packages\\Xtals\\QIUgm\\src\\distance.jl:58\n  distance(!Matched::Cart, !Matched::Box, ::Int64, !Matched::Int64, !Matched::Bool) at C:\\Users\\kgeri\\.julia\\packages\\Xtals\\QIUgm\\src\\distance.jl:47\n  distance(!Matched::Frac, !Matched::Box, ::Int64, !Matched::Int64, !Matched::Bool) at C:\\Users\\kgeri\\.julia\\packages\\Xtals\\QIUgm\\src\\distance.jl:39\n  ...",
      "",
      "Stacktrace:",
      " [1] top-level scope at In[3]:3",
      " [2] include_string(::Function, ::Module, ::String, ::String) at .\\loading.jl:1091"
     ]
    }
   ],
   "source": [
    "# When I try to run this line I get the error messa\n",
    "#r = maximum([distance(atoms, i, j) for i = 1:atoms.n, j = i+1:atoms.n])\n",
    "distance(atoms, 1, 2)"
   ]
  },
  {
   "cell_type": "code",
   "execution_count": 8,
   "metadata": {},
   "outputs": [
    {
     "ename": "LoadError",
     "evalue": "MethodError: no method matching distance(::Atoms{Cart}, ::Int64, ::Int64)\nClosest candidates are:\n  distance(::Atoms, !Matched::Box, ::Int64, !Matched::Int64, !Matched::Bool) at C:\\Users\\kgeri\\.julia\\packages\\Xtals\\QIUgm\\src\\distance.jl:58\n  distance(!Matched::Cart, !Matched::Box, ::Int64, !Matched::Int64, !Matched::Bool) at C:\\Users\\kgeri\\.julia\\packages\\Xtals\\QIUgm\\src\\distance.jl:47\n  distance(!Matched::Frac, !Matched::Box, ::Int64, !Matched::Int64, !Matched::Bool) at C:\\Users\\kgeri\\.julia\\packages\\Xtals\\QIUgm\\src\\distance.jl:39\n  ...",
     "output_type": "error",
     "traceback": [
      "MethodError: no method matching distance(::Atoms{Cart}, ::Int64, ::Int64)\nClosest candidates are:\n  distance(::Atoms, !Matched::Box, ::Int64, !Matched::Int64, !Matched::Bool) at C:\\Users\\kgeri\\.julia\\packages\\Xtals\\QIUgm\\src\\distance.jl:58\n  distance(!Matched::Cart, !Matched::Box, ::Int64, !Matched::Int64, !Matched::Bool) at C:\\Users\\kgeri\\.julia\\packages\\Xtals\\QIUgm\\src\\distance.jl:47\n  distance(!Matched::Frac, !Matched::Box, ::Int64, !Matched::Int64, !Matched::Bool) at C:\\Users\\kgeri\\.julia\\packages\\Xtals\\QIUgm\\src\\distance.jl:39\n  ...",
      "",
      "Stacktrace:",
      " [1] (::var\"#1#2\")(::Tuple{Int64,Int64}) at .\\none:0",
      " [2] iterate at .\\generator.jl:47 [inlined]",
      " [3] collect(::Base.Generator{Base.Iterators.ProductIterator{Tuple{UnitRange{Int64},UnitRange{Int64}}},var\"#1#2\"}) at .\\array.jl:686",
      " [4] top-level scope at In[8]:1",
      " [5] include_string(::Function, ::Module, ::String, ::String) at .\\loading.jl:1091"
     ]
    }
   ],
   "source": [
    "r = maximum([distance(atoms, i, j) for i = 1:atoms.n, j = 1:atoms.n])"
   ]
  },
  {
   "cell_type": "code",
   "execution_count": 5,
   "metadata": {},
   "outputs": [
    {
     "ename": "LoadError",
     "evalue": "MethodError: no method matching distance(::Atoms{Cart}, ::Int64, ::Int64)\nClosest candidates are:\n  distance(::Atoms, !Matched::Box, ::Int64, !Matched::Int64, !Matched::Bool) at C:\\Users\\kgeri\\.julia\\packages\\Xtals\\QIUgm\\src\\distance.jl:58\n  distance(!Matched::Cart, !Matched::Box, ::Int64, !Matched::Int64, !Matched::Bool) at C:\\Users\\kgeri\\.julia\\packages\\Xtals\\QIUgm\\src\\distance.jl:47\n  distance(!Matched::Frac, !Matched::Box, ::Int64, !Matched::Int64, !Matched::Bool) at C:\\Users\\kgeri\\.julia\\packages\\Xtals\\QIUgm\\src\\distance.jl:39\n  ...",
     "output_type": "error",
     "traceback": [
      "MethodError: no method matching distance(::Atoms{Cart}, ::Int64, ::Int64)\nClosest candidates are:\n  distance(::Atoms, !Matched::Box, ::Int64, !Matched::Int64, !Matched::Bool) at C:\\Users\\kgeri\\.julia\\packages\\Xtals\\QIUgm\\src\\distance.jl:58\n  distance(!Matched::Cart, !Matched::Box, ::Int64, !Matched::Int64, !Matched::Bool) at C:\\Users\\kgeri\\.julia\\packages\\Xtals\\QIUgm\\src\\distance.jl:47\n  distance(!Matched::Frac, !Matched::Box, ::Int64, !Matched::Int64, !Matched::Bool) at C:\\Users\\kgeri\\.julia\\packages\\Xtals\\QIUgm\\src\\distance.jl:39\n  ...",
      "",
      "Stacktrace:",
      " [1] top-level scope at .\\In[5]:3",
      " [2] include_string(::Function, ::Module, ::String, ::String) at .\\loading.jl:1091"
     ]
    }
   ],
   "source": [
    "for i = 1:atoms.n, j = i+1:atoms.n\n",
    "\n",
    "    r = maximum(distance(atoms, i, j))    \n",
    "\n",
    "end"
   ]
  }
 ],
 "metadata": {
  "kernelspec": {
   "display_name": "Julia 1.5.1",
   "language": "julia",
   "name": "julia-1.5"
  },
  "language_info": {
   "file_extension": ".jl",
   "mimetype": "application/julia",
   "name": "julia",
   "version": "1.5.1"
  }
 },
 "nbformat": 4,
 "nbformat_minor": 2
}
