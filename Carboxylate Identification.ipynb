{
 "cells": [
  {
   "cell_type": "code",
   "execution_count": 1,
   "metadata": {
    "scrolled": true
   },
   "outputs": [
    {
     "name": "stderr",
     "output_type": "stream",
     "text": [
      "\u001b[32m\u001b[1m   Updating\u001b[22m\u001b[39m registry at `C:\\Users\\kgeri\\.julia\\registries\\General`\n",
      "\u001b[32m\u001b[1m   Updating\u001b[22m\u001b[39m git-repo `https://github.com/JuliaRegistries/General.git`\n"
     ]
    },
    {
     "name": "stdout",
     "output_type": "stream",
     "text": [
      "\u001b[?25l    \u001b[36m\u001b[1mFetching:\u001b[22m\u001b[39m [>                                        ]  0.0 %\r",
      "    \u001b[36m\u001b[1mFetching:\u001b[22m\u001b[39m [====>                                    ]  8.3 %\r",
      "    \u001b[36m\u001b[1mFetching:\u001b[22m\u001b[39m [=======>                                 ]  16.7 %\r",
      "    \u001b[36m\u001b[1mFetching:\u001b[22m\u001b[39m [==========>                              ]  25.0 %\r",
      "    \u001b[36m\u001b[1mFetching:\u001b[22m\u001b[39m [==============>                          ]  33.3 %\r",
      "    \u001b[36m\u001b[1mFetching:\u001b[22m\u001b[39m [=================>                       ]  41.7 %\r",
      "    \u001b[36m\u001b[1mFetching:\u001b[22m\u001b[39m [====================>                    ]  50.0 %\r",
      "    \u001b[36m\u001b[1mFetching:\u001b[22m\u001b[39m [========================>                ]  58.3 %\r",
      "    \u001b[36m\u001b[1mFetching:\u001b[22m\u001b[39m [===========================>             ]  66.7 %\r",
      "    \u001b[36m\u001b[1mFetching:\u001b[22m\u001b[39m [==============================>          ]  75.0 %\r",
      "    \u001b[36m\u001b[1mFetching:\u001b[22m\u001b[39m [==================================>      ]  83.3 %\r",
      "    \u001b[36m\u001b[1mFetching:\u001b[22m\u001b[39m [=====================================>   ]  91.7 %\r",
      "    \u001b[36m\u001b[1mFetching:\u001b[22m\u001b[39m [========================================>]  100.0 %\r",
      "\u001b[2K\u001b[?25h"
     ]
    },
    {
     "name": "stderr",
     "output_type": "stream",
     "text": [
      "\u001b[32m\u001b[1m  Resolving\u001b[22m\u001b[39m package versions...\n",
      "\u001b[32m\u001b[1mNo Changes\u001b[22m\u001b[39m to `C:\\Users\\kgeri\\.julia\\environments\\v1.5\\Project.toml`\n",
      "\u001b[32m\u001b[1mNo Changes\u001b[22m\u001b[39m to `C:\\Users\\kgeri\\.julia\\environments\\v1.5\\Manifest.toml`\n",
      "\u001b[32m\u001b[1m  Resolving\u001b[22m\u001b[39m package versions...\n",
      "\u001b[32m\u001b[1mNo Changes\u001b[22m\u001b[39m to `C:\\Users\\kgeri\\.julia\\environments\\v1.5\\Project.toml`\n",
      "\u001b[32m\u001b[1mNo Changes\u001b[22m\u001b[39m to `C:\\Users\\kgeri\\.julia\\environments\\v1.5\\Manifest.toml`\n"
     ]
    }
   ],
   "source": [
    "using Pkg\n",
    "Pkg.add(\"DataFrames\")\n",
    "Pkg.add(\"CSV\")"
   ]
  },
  {
   "cell_type": "code",
   "execution_count": 1,
   "metadata": {},
   "outputs": [],
   "source": [
    "using DataFrames\n",
    "using CSV\n",
    "using Printf\n",
    "using Statistics\n",
    "using LinearAlgebra"
   ]
  },
  {
   "cell_type": "code",
   "execution_count": 2,
   "metadata": {},
   "outputs": [],
   "source": [
    "using PorousMaterials\n",
    "using LightGraphs\n",
    "using GraphPlot"
   ]
  },
  {
   "cell_type": "code",
   "execution_count": 15,
   "metadata": {},
   "outputs": [
    {
     "data": {
      "text/plain": [
       "\"C:\\\\Users\\\\kgeri\\\\Documents\\\\GitHub\\\\MolecularSynthesis\""
      ]
     },
     "execution_count": 15,
     "metadata": {},
     "output_type": "execute_result"
    }
   ],
   "source": [
    "pwd()"
   ]
  },
  {
   "cell_type": "code",
   "execution_count": 18,
   "metadata": {
    "scrolled": true
   },
   "outputs": [
    {
     "data": {
      "text/plain": [
       "Atoms{Cart}(31, [:O, :C, :O, :C, :H, :C, :C, :C, :C, :C  …  :H, :H, :N, :C, :C, :H, :H, :O, :O, :H], Cart([1.428 0.344 … 1.716 0.039; 0.001 0.423 … 12.315 13.786; 0.64 -0.048 … -0.421 -0.14]))"
      ]
     },
     "execution_count": 18,
     "metadata": {},
     "output_type": "execute_result"
    }
   ],
   "source": [
    "atoms = read_xyz(joinpath(homedir(), \"Documents\", \"GitHub\", \"MolecularSynthesis\", \"examples\", \"1.xyz\"))"
   ]
  },
  {
   "cell_type": "code",
   "execution_count": 19,
   "metadata": {},
   "outputs": [
    {
     "data": {
      "text/plain": [
       "Atoms{Frac}(31, [:O, :C, :O, :C, :H, :C, :C, :C, :C, :C  …  :H, :H, :N, :C, :C, :H, :H, :O, :O, :H], Frac([0.09519999999999999 0.02293333333333333 … 0.11439999999999995 0.002599999999999944; 6.666666666666405e-5 0.0282 … 0.821 0.9190666666666666; 0.042666666666666665 -0.0032 … -0.028066666666666667 -0.009333333333333334]))"
      ]
     },
     "execution_count": 19,
     "metadata": {},
     "output_type": "execute_result"
    }
   ],
   "source": [
    "box = Box(15.0,15.0,15.0)\n",
    "atoms=Frac(atoms, box)"
   ]
  },
  {
   "cell_type": "code",
   "execution_count": 47,
   "metadata": {
    "scrolled": false
   },
   "outputs": [
    {
     "name": "stdout",
     "output_type": "stream",
     "text": [
      "1 O\n",
      "2 C\n",
      "3 O\n",
      "4 C\n",
      "5 H\n",
      "6 C\n",
      "7 C\n",
      "8 C\n",
      "9 C\n",
      "10 C\n",
      "11 C\n",
      "12 C\n",
      "13 Br\n",
      "14 H\n",
      "15 H\n",
      "16 C\n",
      "17 N\n",
      "18 N\n",
      "19 N\n",
      "20 C\n",
      "21 H\n",
      "22 H\n",
      "23 H\n",
      "24 N\n",
      "25 C\n",
      "26 C\n",
      "27 H\n",
      "28 H\n",
      "29 O\n",
      "30 O\n",
      "31 H\n"
     ]
    }
   ],
   "source": [
    "counter = 0\n",
    "for i = 1:31\n",
    "    counter += 1\n",
    "    println(counter, \" \", crystal.atoms.species[i])\n",
    "\n",
    "end"
   ]
  },
  {
   "cell_type": "code",
   "execution_count": 20,
   "metadata": {
    "scrolled": false
   },
   "outputs": [
    {
     "data": {
      "text/plain": [
       "Name: NewTest.cif\n",
       "Bravais unit cell of a crystal.\n",
       "\tUnit cell angles α = 90.000000 deg. β = 90.000000 deg. γ = 90.000000 deg.\n",
       "\tUnit cell dimensions a = 15.000000 Å. b = 15.000000 Å, c = 15.000000 Å\n",
       "\tVolume of unit cell: 3375.000000 Å³\n",
       "\n",
       "\t# atoms = 31\n",
       "\t# charges = 0\n",
       "\tchemical formula: Dict(:N => 4,:H => 9,:Br => 1,:O => 4,:C => 13)\n",
       "\tspace Group: P1\n",
       "\tsymmetry Operations:\n",
       "\t\t'x, y, z'\n"
      ]
     },
     "execution_count": 20,
     "metadata": {},
     "output_type": "execute_result"
    }
   ],
   "source": [
    "crystal = Crystal(\"NewTest.cif\", box, atoms, Charges{Frac}(0))"
   ]
  },
  {
   "cell_type": "code",
   "execution_count": 21,
   "metadata": {},
   "outputs": [],
   "source": [
    "infer_bonds!(crystal, false)"
   ]
  },
  {
   "cell_type": "code",
   "execution_count": 22,
   "metadata": {},
   "outputs": [
    {
     "data": {
      "text/plain": [
       "{31, 32} undirected simple Int64 graph"
      ]
     },
     "execution_count": 22,
     "metadata": {},
     "output_type": "execute_result"
    }
   ],
   "source": [
    "Graph(crystal.bonds)\n",
    "#Graph(edges(crystal.bonds))"
   ]
  },
  {
   "cell_type": "code",
   "execution_count": 23,
   "metadata": {},
   "outputs": [],
   "source": [
    "#typeof(crystal.bonds)\n",
    "#edges(crystal.bonds)"
   ]
  },
  {
   "cell_type": "code",
   "execution_count": 34,
   "metadata": {
    "scrolled": false
   },
   "outputs": [
    {
     "name": "stdout",
     "output_type": "stream",
     "text": [
      "Edge 1 => 2\n",
      "atom O is connected to C\n",
      "Edge 1 => 5\n",
      "atom O is connected to H\n",
      "Edge 2 => 3\n",
      "atom C is connected to O\n",
      "Edge 2 => 4\n",
      "atom C is connected to C\n",
      "Edge 4 => 6\n",
      "atom C is connected to C\n",
      "Edge 4 => 10\n",
      "atom C is connected to C\n",
      "Edge 6 => 7\n",
      "atom C is connected to C\n",
      "Edge 7 => 8\n",
      "atom C is connected to C\n",
      "Edge 7 => 12\n",
      "atom C is connected to C\n",
      "Edge 8 => 9\n",
      "atom C is connected to C\n",
      "Edge 8 => 11\n",
      "atom C is connected to C\n",
      "Edge 9 => 10\n",
      "atom C is connected to C\n",
      "Edge 9 => 15\n",
      "atom C is connected to H\n",
      "Edge 10 => 14\n",
      "atom C is connected to H\n",
      "Edge 11 => 16\n",
      "atom C is connected to C\n",
      "Edge 11 => 19\n",
      "atom C is connected to N\n",
      "Edge 11 => 23\n",
      "atom C is connected to H\n",
      "Edge 12 => 24\n",
      "atom C is connected to N\n",
      "Edge 16 => 17\n",
      "atom C is connected to N\n",
      "Edge 16 => 21\n",
      "atom C is connected to H\n",
      "Edge 16 => 22\n",
      "atom C is connected to H\n",
      "Edge 17 => 18\n",
      "atom N is connected to N\n",
      "Edge 17 => 20\n",
      "atom N is connected to C\n",
      "Edge 18 => 19\n",
      "atom N is connected to N\n",
      "Edge 20 => 25\n",
      "atom C is connected to C\n",
      "Edge 20 => 28\n",
      "atom C is connected to H\n",
      "Edge 25 => 26\n",
      "atom C is connected to C\n",
      "Edge 25 => 27\n",
      "atom C is connected to H\n",
      "Edge 26 => 29\n",
      "atom C is connected to O\n",
      "Edge 26 => 30\n",
      "atom C is connected to O\n",
      "Edge 26 => 31\n",
      "atom C is connected to H\n",
      "Edge 29 => 31\n",
      "atom O is connected to H\n"
     ]
    }
   ],
   "source": [
    "for ed in edges(crystal.bonds)\n",
    "   \n",
    "    println(ed)\n",
    "    i = ed.src\n",
    "    j = ed.dst\n",
    "       \n",
    "    species_i = crystal.atoms.species[i]\n",
    "    species_j = crystal.atoms.species[j]\n",
    "    println(\"atom \", species_i, \" is connected to \", species_j)\n",
    "    \n",
    "\n",
    "end"
   ]
  },
  {
   "cell_type": "code",
   "execution_count": null,
   "metadata": {},
   "outputs": [],
   "source": []
  },
  {
   "cell_type": "code",
   "execution_count": 12,
   "metadata": {},
   "outputs": [
    {
     "data": {
      "text/plain": [
       ":C"
      ]
     },
     "execution_count": 12,
     "metadata": {},
     "output_type": "execute_result"
    }
   ],
   "source": [
    "nbs = neighbors(crystal.bonds, 2)\n",
    "\n",
    "crystal.atoms.species[21]"
   ]
  },
  {
   "cell_type": "code",
   "execution_count": 13,
   "metadata": {},
   "outputs": [
    {
     "data": {
      "text/plain": [
       "identify_carboxyl (generic function with 1 method)"
      ]
     },
     "execution_count": 13,
     "metadata": {},
     "output_type": "execute_result"
    }
   ],
   "source": [
    "### Function to identify carboxyl. When species is carbon, checks if it has two oxygen neighbors. \n",
    "### If it does, returns oxygen id's, anchor id, and oxygen's hydrogen id\n",
    "\n",
    "function identify_carboxyl(crystal::Crystal, a::Int64)\n",
    "   \n",
    "    species = crystal.atoms.species[a]    #Identify species of selected atom\n",
    "    nbs = neighbors(crystal.bonds, a)     #Identify neighbors of atom\n",
    "    \n",
    "    if species == :C                      #Identifying carboxylate starts with carbon\n",
    "        oxygen_counter = 0\n",
    "        oxygen_id = Int64[]\n",
    "        X_id = 0\n",
    "        H_id = 0\n",
    "        for nb in nbs                     #Iterating through neighbors via identifying number\n",
    "            species_nb = crystal.atoms.species[nb] #Get species of neighbor\n",
    "            if species_nb == :O\n",
    "                \n",
    "                next_nbs = neighbors(crystal.bonds, nb)  #Get neighbors of oxygen (finding hydrogen)\n",
    "                \n",
    "                for next_nb in next_nbs\n",
    "                    species_next_nb = crystal.atoms.species[next_nb]  #Get species of oxygen's neighbors\n",
    "                    if species_next_nb == :H     #Identify hydrogen neighbor\n",
    "                        H_id = next_nb\n",
    "                    else\n",
    "                    end\n",
    "                end\n",
    "                \n",
    "                oxygen_counter += 1\n",
    "                push!(oxygen_id, nb)         #Enter oxygen id into array\n",
    "            else\n",
    "                X_id = nb            #If neighbor of carboxylate carbon isn't oxygen, must be anchor\n",
    "            end\n",
    "        end\n",
    "        \n",
    "        if oxygen_counter == 2   #Assuming carboxylate carbon is only carbon with two oxygens bonded\n",
    "        \n",
    "            return true, oxygen_id, X_id, H_id\n",
    "        else \n",
    "            return false, [], 0, 0\n",
    "        end\n",
    "    else\n",
    "        return false, [], 0, 0\n",
    "    end\n",
    "\n",
    "end"
   ]
  },
  {
   "cell_type": "code",
   "execution_count": 14,
   "metadata": {},
   "outputs": [
    {
     "data": {
      "text/plain": [
       "(true, [26, 27], 28, 28)"
      ]
     },
     "execution_count": 14,
     "metadata": {},
     "output_type": "execute_result"
    }
   ],
   "source": [
    "identify_carboxyl(crystal, 21)"
   ]
  },
  {
   "cell_type": "code",
   "execution_count": 119,
   "metadata": {},
   "outputs": [],
   "source": [
    "#\n",
    "\n",
    "keep = [true for i = 1:crystal.atoms.n]\n",
    "\n",
    "X_species = Symbol[]\n",
    "X_ids = Int64[]\n",
    "\n",
    "for a = 1:crystal.atoms.n\n",
    "       \n",
    "   \n",
    "\n",
    "    is_carboxyl, oxygen_ids, X_id, H_id = identify_carboxyl(crystal, a)\n",
    "    \n",
    "    if is_carboxyl == true \n",
    "    \n",
    "        push!(X_species, crystal.atoms.species[X_id])\n",
    "        push!(X_ids, X_id)\n",
    "        crystal.atoms.species[X_id] = :X\n",
    "        @assert length(oxygen_ids) == 2\n",
    "        keep[oxygen_ids] .= false\n",
    "        keep[a] = false\n",
    "        keep[H_id] = false\n",
    "        \n",
    "    end\n",
    "\n",
    "\n",
    "end"
   ]
  },
  {
   "cell_type": "code",
   "execution_count": 142,
   "metadata": {},
   "outputs": [
    {
     "data": {
      "text/plain": [
       "2-element Array{Symbol,1}:\n",
       " :C\n",
       " :H"
      ]
     },
     "execution_count": 142,
     "metadata": {},
     "output_type": "execute_result"
    }
   ],
   "source": [
    "X_species\n",
    "#X_ids"
   ]
  },
  {
   "cell_type": "code",
   "execution_count": 121,
   "metadata": {},
   "outputs": [
    {
     "name": "stdout",
     "output_type": "stream",
     "text": [
      "nothing\n",
      "1\n"
     ]
    }
   ],
   "source": [
    "for i in [19, 4]\n",
    "    \n",
    "   h = findfirst(isequal(i), X_ids) \n",
    "    print(h, \"\\n\")\n",
    "end"
   ]
  },
  {
   "cell_type": "code",
   "execution_count": 122,
   "metadata": {},
   "outputs": [],
   "source": [
    "h = findfirst(isequal(19), X_ids) \n",
    "#X_species[h]"
   ]
  },
  {
   "cell_type": "code",
   "execution_count": 123,
   "metadata": {},
   "outputs": [
    {
     "name": "stdout",
     "output_type": "stream",
     "text": [
      "Edge 1 => 2\n",
      "atom O is connected to C\n",
      "Edge 1 => 5\n",
      "atom O is connected to H\n",
      "Edge 2 => 3\n",
      "atom C is connected to O\n",
      "Edge 2 => 4\n",
      "atom C is connected to X\n",
      "Edge 4 => 6\n",
      "atom X is connected to C\n",
      "Edge 4 => 10\n",
      "atom X is connected to C\n",
      "Edge 6 => 7\n",
      "atom C is connected to C\n",
      "Edge 6 => 13\n",
      "atom C is connected to H\n",
      "Edge 7 => 8\n",
      "atom C is connected to C\n",
      "Edge 7 => 25\n",
      "atom C is connected to O\n",
      "Edge 8 => 9\n",
      "atom C is connected to C\n",
      "Edge 8 => 11\n",
      "atom C is connected to C\n",
      "Edge 9 => 10\n",
      "atom C is connected to C\n",
      "Edge 9 => 15\n",
      "atom C is connected to H\n",
      "Edge 10 => 14\n",
      "atom C is connected to H\n",
      "Edge 11 => 16\n",
      "atom C is connected to C\n",
      "Edge 12 => 22\n",
      "atom C is connected to H\n",
      "Edge 12 => 23\n",
      "atom C is connected to H\n",
      "Edge 12 => 24\n",
      "atom C is connected to H\n",
      "Edge 12 => 25\n",
      "atom C is connected to O\n",
      "Edge 16 => 17\n",
      "atom C is connected to N\n",
      "Edge 17 => 18\n",
      "atom N is connected to N\n",
      "Edge 18 => 19\n",
      "atom N is connected to N\n",
      "Edge 19 => 20\n",
      "atom N is connected to N\n",
      "Edge 20 => 21\n",
      "atom N is connected to C\n",
      "Edge 21 => 26\n",
      "atom C is connected to O\n",
      "Edge 21 => 27\n",
      "atom C is connected to O\n",
      "Edge 21 => 28\n",
      "atom C is connected to X\n",
      "Edge 26 => 28\n",
      "atom O is connected to X\n"
     ]
    }
   ],
   "source": [
    "for ed in edges(crystal.bonds)\n",
    "   \n",
    "    println(ed)\n",
    "    i = ed.src\n",
    "    j = ed.dst\n",
    "       \n",
    "    species_i = crystal.atoms.species[i]\n",
    "    species_j = crystal.atoms.species[j]\n",
    "    println(\"atom \", species_i, \" is connected to \", species_j)\n",
    "    \n",
    "\n",
    "end"
   ]
  },
  {
   "cell_type": "code",
   "execution_count": null,
   "metadata": {},
   "outputs": [],
   "source": []
  },
  {
   "cell_type": "code",
   "execution_count": 124,
   "metadata": {},
   "outputs": [
    {
     "data": {
      "text/plain": [
       "Atoms{Frac}(20, [:X, :C, :C, :C, :C, :C, :C, :C, :H, :H, :H, :C, :N, :N, :N, :N, :H, :H, :H, :O], Frac([0.04639999999999999 -0.03226666666666668 … -0.2290666666666667 -0.11520000000000001; 0.13493333333333332 0.17600000000000002 … 0.36386666666666667 0.3091333333333333; 0.0016 0.018866666666666664 … 0.0021333333333333334 0.05093333333333333]))"
      ]
     },
     "execution_count": 124,
     "metadata": {},
     "output_type": "execute_result"
    }
   ],
   "source": [
    "#Make a boolean array to keep atoms. \n",
    "crystal.atoms[keep]"
   ]
  },
  {
   "cell_type": "code",
   "execution_count": 125,
   "metadata": {},
   "outputs": [
    {
     "data": {
      "text/plain": [
       "Atoms{Frac}(20, [:X, :C, :C, :C, :C, :C, :C, :C, :H, :H, :H, :C, :N, :N, :N, :N, :H, :H, :H, :O], Frac([0.04639999999999999 -0.03226666666666668 … -0.2290666666666667 -0.11520000000000001; 0.13493333333333332 0.17600000000000002 … 0.36386666666666667 0.3091333333333333; 0.0016 0.018866666666666664 … 0.0021333333333333334 0.05093333333333333]))"
      ]
     },
     "execution_count": 125,
     "metadata": {},
     "output_type": "execute_result"
    }
   ],
   "source": [
    "tobacco_crystal = crystal.atoms[keep]"
   ]
  },
  {
   "cell_type": "code",
   "execution_count": 126,
   "metadata": {},
   "outputs": [],
   "source": [
    "write_cif(crystal, \"tobacco_crystal.cif\")"
   ]
  },
  {
   "cell_type": "code",
   "execution_count": 127,
   "metadata": {},
   "outputs": [
    {
     "data": {
      "text/plain": [
       "Name: NewTest.cif\n",
       "Bravais unit cell of a crystal.\n",
       "\tUnit cell angles α = 90.000000 deg. β = 90.000000 deg. γ = 90.000000 deg.\n",
       "\tUnit cell dimensions a = 15.000000 Å. b = 15.000000 Å, c = 15.000000 Å\n",
       "\tVolume of unit cell: 3375.000000 Å³\n",
       "\n",
       "\t# atoms = 28\n",
       "\t# charges = 0\n",
       "\tchemical formula: Dict(:N => 4,:H => 7,:X => 2,:O => 5,:C => 10)\n",
       "\tspace Group: P1\n",
       "\tsymmetry Operations:\n",
       "\t\t'x, y, z'\n"
      ]
     },
     "execution_count": 127,
     "metadata": {},
     "output_type": "execute_result"
    }
   ],
   "source": [
    "crystal"
   ]
  },
  {
   "cell_type": "code",
   "execution_count": 128,
   "metadata": {},
   "outputs": [],
   "source": [
    "write_cif(crystal, \"tobacco_crystal.cif\")"
   ]
  },
  {
   "cell_type": "code",
   "execution_count": 129,
   "metadata": {},
   "outputs": [],
   "source": [
    "#infer_bonds!(tobacco_crystal, true)\n",
    "#remove_bonds!(tobacco_crystal)"
   ]
  },
  {
   "cell_type": "code",
   "execution_count": 130,
   "metadata": {
    "scrolled": true
   },
   "outputs": [
    {
     "data": {
      "text/plain": [
       "Name: tobacco_crystal_2.cif\n",
       "Bravais unit cell of a crystal.\n",
       "\tUnit cell angles α = 90.000000 deg. β = 90.000000 deg. γ = 90.000000 deg.\n",
       "\tUnit cell dimensions a = 15.000000 Å. b = 15.000000 Å, c = 15.000000 Å\n",
       "\tVolume of unit cell: 3375.000000 Å³\n",
       "\n",
       "\t# atoms = 20\n",
       "\t# charges = 0\n",
       "\tchemical formula: Dict(:N => 4,:H => 6,:X => 1,:O => 1,:C => 8)\n",
       "\tspace Group: P1\n",
       "\tsymmetry Operations:\n",
       "\t\t'x, y, z'\n"
      ]
     },
     "execution_count": 130,
     "metadata": {},
     "output_type": "execute_result"
    }
   ],
   "source": [
    "tobacco_crystal = Crystal(\"tobacco_crystal_2.cif\", box, atoms[keep], Charges{Frac}(0))"
   ]
  },
  {
   "cell_type": "code",
   "execution_count": 131,
   "metadata": {},
   "outputs": [
    {
     "data": {
      "text/plain": [
       "center_mass (generic function with 1 method)"
      ]
     },
     "execution_count": 131,
     "metadata": {},
     "output_type": "execute_result"
    }
   ],
   "source": [
    "function center_mass(crystal::Crystal)\n",
    "    xf_cm = sum(crystal.atoms.coords.xf, dims = 2)\n",
    "    frctn_xf_cm = xf_cm ./ crystal.atoms.n\n",
    "    new_coords = crystal.atoms.coords.xf .- frctn_xf_cm\n",
    "    crystal.atoms.coords.xf .= mod.(crystal.atoms.coords.xf, 1)\n",
    "    crystal.atoms.coords.xf .= new_coords\n",
    "    \n",
    "    return crystal\n",
    "end"
   ]
  },
  {
   "cell_type": "code",
   "execution_count": 132,
   "metadata": {},
   "outputs": [
    {
     "data": {
      "text/plain": [
       "Name: tobacco_crystal_2.cif\n",
       "Bravais unit cell of a crystal.\n",
       "\tUnit cell angles α = 90.000000 deg. β = 90.000000 deg. γ = 90.000000 deg.\n",
       "\tUnit cell dimensions a = 15.000000 Å. b = 15.000000 Å, c = 15.000000 Å\n",
       "\tVolume of unit cell: 3375.000000 Å³\n",
       "\n",
       "\t# atoms = 20\n",
       "\t# charges = 0\n",
       "\tchemical formula: Dict(:N => 4,:H => 6,:X => 1,:O => 1,:C => 8)\n",
       "\tspace Group: P1\n",
       "\tsymmetry Operations:\n",
       "\t\t'x, y, z'\n"
      ]
     },
     "execution_count": 132,
     "metadata": {},
     "output_type": "execute_result"
    }
   ],
   "source": [
    "tobacco_crystal = center_mass(tobacco_crystal)"
   ]
  },
  {
   "cell_type": "code",
   "execution_count": 133,
   "metadata": {},
   "outputs": [
    {
     "data": {
      "text/plain": [
       "Atoms{Frac}(20, [:X, :C, :C, :C, :C, :C, :C, :C, :H, :H, :H, :C, :N, :N, :N, :N, :H, :H, :H, :O], Frac([0.06441333333333335 -0.014253333333333323 … -0.21105333333333334 -0.09718666666666666; -0.2172333333333333 -0.1761666666666666 … 0.011700000000000044 -0.04303333333333331; 0.0011066666666666655 0.01837333333333333 … 0.0016399999999999989 0.05044]))"
      ]
     },
     "execution_count": 133,
     "metadata": {},
     "output_type": "execute_result"
    }
   ],
   "source": [
    "tobacco_crystal.atoms"
   ]
  },
  {
   "cell_type": "code",
   "execution_count": null,
   "metadata": {},
   "outputs": [],
   "source": []
  },
  {
   "cell_type": "code",
   "execution_count": 134,
   "metadata": {},
   "outputs": [
    {
     "data": {
      "text/plain": [
       "write_cif_Kai"
      ]
     },
     "execution_count": 134,
     "metadata": {},
     "output_type": "execute_result"
    }
   ],
   "source": [
    "\"\"\"\n",
    "    write_cif(crystal, filename; fractional_coords=true, number_atoms=true)\n",
    "Write a `crystal::Crystal` to a .cif file with `filename::AbstractString`. If `filename` does\n",
    "not include the .cif extension, it will automatically be added. the `fractional_coords` flag\n",
    "allows us to write either fractional or Cartesian coordinates.\n",
    "\"\"\"\n",
    "function write_cif_Kai(crystal::Crystal, filename::AbstractString, X_species::Array{Symbol,1}, X_ids::Array{Int64,1};\n",
    "\t\t fractional_coords::Bool=true, number_atoms::Bool=true)\n",
    "    if has_charges(crystal)\n",
    "        if crystal.atoms.n != crystal.charges.n\n",
    "            error(\"write_cif assumes equal numbers of Charges and Atoms (or zero charges)\")\n",
    "        end\n",
    "        if ! isapprox(crystal.charges.coords, crystal.atoms.coords)\n",
    "            error(\"write_cif needs coords of atoms and charges to correspond.\")\n",
    "        end\n",
    "    end\n",
    "\n",
    "    # TODO is this labeling necessary for the bonds, arthur?\n",
    "    # create dictionary for tracking label numbers\n",
    "    label_numbers = Dict{Symbol, Int}()\n",
    "    for atom in crystal.atoms.species\n",
    "        if !haskey(label_numbers, atom)\n",
    "            label_numbers[atom] = 1\n",
    "        end\n",
    "    end\n",
    "\n",
    "    # append \".cif\" to filename if it doesn't already have the extension\n",
    "    if ! occursin(\".cif\", filename)\n",
    "        filename *= \".cif\"\n",
    "    end\n",
    "    cif_file = open(filename, \"w\")\n",
    "    # first line should be data_xtalname_PM\n",
    "    if crystal.name == \"\"\n",
    "        @printf(cif_file, \"data_PM\\n\")\n",
    "    else\n",
    "        # don't include file extension!\n",
    "        @printf(cif_file, \"data_%s_PM\\n\", split(crystal.name, \".\")[1])\n",
    "    end\n",
    "\n",
    "    @printf(cif_file, \"_symmetry_space_group_name_H-M\\t'%s'\\n\", crystal.symmetry.space_group)\n",
    "\n",
    "    @printf(cif_file, \"_cell_length_a\\t%f\\n\", crystal.box.a)\n",
    "    @printf(cif_file, \"_cell_length_b\\t%f\\n\", crystal.box.b)\n",
    "    @printf(cif_file, \"_cell_length_c\\t%f\\n\", crystal.box.c)\n",
    "\n",
    "    @printf(cif_file, \"_cell_angle_alpha\\t%f\\n\", crystal.box.α * 180.0 / pi)\n",
    "    @printf(cif_file, \"_cell_angle_beta\\t%f\\n\", crystal.box.β * 180.0 / pi)\n",
    "    @printf(cif_file, \"_cell_angle_gamma\\t%f\\n\", crystal.box.γ * 180.0 / pi)\n",
    "\n",
    "    @printf(cif_file, \"_symmetry_Int_Tables_number 1\\n\\n\")\n",
    "    @printf(cif_file, \"loop_\\n_symmetry_equiv_pos_as_xyz\\n\")\n",
    "    for i in 1:size(crystal.symmetry.operations, 2)\n",
    "        @printf(cif_file, \"'%s,%s,%s'\\n\", crystal.symmetry.operations[:, i]...)\n",
    "    end\n",
    "    @printf(cif_file, \"\\n\")\n",
    "\n",
    "    @printf(cif_file, \"loop_\\n_atom_site_label\\n_atom_site_type_symbol\\n\")\n",
    "    if fractional_coords\n",
    "        @printf(cif_file, \"_atom_site_fract_x\\n_atom_site_fract_y\\n_atom_site_fract_z\\n\")\n",
    "    else\n",
    "        @printf(cif_file, \"_atom_site_Cartn_x\\n_atom_site_Cartn_y\\n_atom_site_Cartn_z\\n\")\n",
    "    end\n",
    "    high_precision_charges = false # if, for neutrality, need high-precision charges\n",
    "    if has_charges(crystal)\n",
    "        @printf(cif_file, \"_atom_site_charge\\n\")\n",
    "        # if crystal will not be charge neutral to a 1e-5 tolerance when loading it\n",
    "        #    into PorousMaterials.jl, then write higher-precision charges\n",
    "        if abs(sum(round.(crystal.charges.q, digits=6))) > NET_CHARGE_TOL\n",
    "            @info \"writing high-precision charges for \" * filename * \".\\n\"\n",
    "            high_precision_charges = true\n",
    "        end\n",
    "    end\n",
    "\n",
    "    idx_to_label = Array{AbstractString, 1}(undef, crystal.atoms.n)\n",
    "    nb_of_X = 0\n",
    "    for i = 1:crystal.atoms.n\n",
    "        # print label and type symbol\n",
    "        \n",
    "        if crystal.atoms.species[i] == :X\n",
    "            nb_of_X += 1\n",
    "            #X_index = findfirst(isequal(i), X_ids)\n",
    "            #println(X_index)\n",
    "            element = X_species[nb_of_X]\n",
    "            \n",
    "            @printf(cif_file, \"%s\\t%s\\t\", string(crystal.atoms.species[i]) *\n",
    "                (number_atoms ? string(label_numbers[crystal.atoms.species[i]]) : \"\"),\n",
    "                element)\n",
    "        else\n",
    "            @printf(cif_file, \"%s\\t%s\\t\", string(crystal.atoms.species[i]) *\n",
    "                (number_atoms ? string(label_numbers[crystal.atoms.species[i]]) : \"\"),\n",
    "                crystal.atoms.species[i])\n",
    "        end\n",
    "        \n",
    "        # store label for this atom idx\n",
    "        idx_to_label[i] = string(crystal.atoms.species[i]) *\n",
    "                    string(label_numbers[crystal.atoms.species[i]])\n",
    "        # increment label\n",
    "        label_numbers[crystal.atoms.species[i]] += 1\n",
    "        if fractional_coords\n",
    "            @printf(cif_file, \"%f\\t%f\\t%f\", crystal.atoms.coords.xf[:, i]...)\n",
    "        else\n",
    "            @printf(cif_file, \"%f\\t%f\\t%f\", (crystal.box.f_to_c * crystal.atoms.coords.xf[:, i])...)\n",
    "        end\n",
    "        if has_charges(crystal)\n",
    "            if high_precision_charges\n",
    "                @printf(cif_file, \"\\t%.10f\\n\", crystal.charges.q[i])\n",
    "            else\n",
    "                @printf(cif_file, \"\\t%f\\n\", crystal.charges.q[i])\n",
    "            end\n",
    "        else\n",
    "            @printf(cif_file, \"\\n\")\n",
    "        end\n",
    "    end\n",
    "\n",
    "    # only print bond information if it is in the crystal\n",
    "    if ne(crystal.bonds) > 0\n",
    "        if ! number_atoms\n",
    "             error(\"must label atoms with numbers to write bond information.\\n\")\n",
    "        end\n",
    "        # print column names for bond information\n",
    "        @printf(cif_file, \"\\nloop_\\n_geom_bond_atom_site_label_1\\n_geom_bond_atom_site_label_2\\n_geom_bond_distance\\n_ccdc_geom_bond_type\\n\")\n",
    "\n",
    "        for edge in collect(edges(crystal.bonds))\n",
    "            dxf = crystal.atoms.coords.xf[:, edge.src] - crystal.atoms.coords.xf[:, edge.dst]\n",
    "            nearest_image!(dxf)\n",
    "            @printf(cif_file, \"%s\\t%s\\t%0.5f\\t%s\\n\", idx_to_label[edge.src], idx_to_label[edge.dst],\n",
    "                    norm(dxf), \". A\")\n",
    "        end\n",
    "    end\n",
    "    close(cif_file)\n",
    "end"
   ]
  },
  {
   "cell_type": "code",
   "execution_count": 135,
   "metadata": {},
   "outputs": [
    {
     "data": {
      "text/plain": [
       "2-element Array{Symbol,1}:\n",
       " :C\n",
       " :H"
      ]
     },
     "execution_count": 135,
     "metadata": {},
     "output_type": "execute_result"
    }
   ],
   "source": [
    "X_species"
   ]
  },
  {
   "cell_type": "code",
   "execution_count": 136,
   "metadata": {},
   "outputs": [
    {
     "data": {
      "text/plain": [
       "2-element Array{Int64,1}:\n",
       "  4\n",
       " 28"
      ]
     },
     "execution_count": 136,
     "metadata": {},
     "output_type": "execute_result"
    }
   ],
   "source": [
    "X_ids"
   ]
  },
  {
   "cell_type": "code",
   "execution_count": 137,
   "metadata": {},
   "outputs": [],
   "source": [
    "write_cif_Kai(tobacco_crystal, \"tobacco_crystal_2.cif\", X_species, X_ids)"
   ]
  },
  {
   "cell_type": "code",
   "execution_count": 138,
   "metadata": {},
   "outputs": [],
   "source": [
    "infer_bonds!(tobacco_crystal, true)"
   ]
  },
  {
   "cell_type": "code",
   "execution_count": 141,
   "metadata": {},
   "outputs": [],
   "source": [
    "write_cif_Kai(tobacco_crystal, \"NewTest.cif\", X_species, X_ids)"
   ]
  },
  {
   "cell_type": "code",
   "execution_count": null,
   "metadata": {},
   "outputs": [],
   "source": []
  },
  {
   "cell_type": "code",
   "execution_count": null,
   "metadata": {},
   "outputs": [],
   "source": []
  },
  {
   "cell_type": "code",
   "execution_count": null,
   "metadata": {},
   "outputs": [],
   "source": []
  },
  {
   "cell_type": "code",
   "execution_count": null,
   "metadata": {},
   "outputs": [],
   "source": []
  },
  {
   "cell_type": "code",
   "execution_count": null,
   "metadata": {},
   "outputs": [],
   "source": []
  },
  {
   "cell_type": "code",
   "execution_count": null,
   "metadata": {},
   "outputs": [],
   "source": []
  },
  {
   "cell_type": "code",
   "execution_count": null,
   "metadata": {},
   "outputs": [],
   "source": []
  },
  {
   "cell_type": "code",
   "execution_count": null,
   "metadata": {},
   "outputs": [],
   "source": []
  },
  {
   "cell_type": "code",
   "execution_count": null,
   "metadata": {},
   "outputs": [],
   "source": []
  },
  {
   "cell_type": "code",
   "execution_count": null,
   "metadata": {},
   "outputs": [],
   "source": []
  },
  {
   "cell_type": "code",
   "execution_count": null,
   "metadata": {},
   "outputs": [],
   "source": []
  },
  {
   "cell_type": "code",
   "execution_count": null,
   "metadata": {},
   "outputs": [],
   "source": []
  },
  {
   "cell_type": "code",
   "execution_count": null,
   "metadata": {},
   "outputs": [],
   "source": []
  },
  {
   "cell_type": "code",
   "execution_count": null,
   "metadata": {},
   "outputs": [],
   "source": []
  },
  {
   "cell_type": "code",
   "execution_count": null,
   "metadata": {},
   "outputs": [],
   "source": []
  },
  {
   "cell_type": "code",
   "execution_count": null,
   "metadata": {},
   "outputs": [],
   "source": []
  },
  {
   "cell_type": "code",
   "execution_count": null,
   "metadata": {},
   "outputs": [],
   "source": []
  },
  {
   "cell_type": "code",
   "execution_count": null,
   "metadata": {},
   "outputs": [],
   "source": []
  },
  {
   "cell_type": "code",
   "execution_count": null,
   "metadata": {},
   "outputs": [],
   "source": []
  },
  {
   "cell_type": "code",
   "execution_count": null,
   "metadata": {},
   "outputs": [],
   "source": []
  },
  {
   "cell_type": "code",
   "execution_count": null,
   "metadata": {},
   "outputs": [],
   "source": []
  },
  {
   "cell_type": "code",
   "execution_count": null,
   "metadata": {},
   "outputs": [],
   "source": []
  },
  {
   "cell_type": "code",
   "execution_count": null,
   "metadata": {},
   "outputs": [],
   "source": []
  }
 ],
 "metadata": {
  "kernelspec": {
   "display_name": "Julia 1.5.1",
   "language": "julia",
   "name": "julia-1.5"
  },
  "language_info": {
   "file_extension": ".jl",
   "mimetype": "application/julia",
   "name": "julia",
   "version": "1.5.1"
  }
 },
 "nbformat": 4,
 "nbformat_minor": 2
}
