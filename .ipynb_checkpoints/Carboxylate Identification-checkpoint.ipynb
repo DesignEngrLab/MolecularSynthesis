{
 "cells": [
  {
   "cell_type": "code",
   "execution_count": 140,
   "metadata": {},
   "outputs": [],
   "source": [
    "using Xtals, LightGraphs, Test, Printf, LinearAlgebra"
   ]
  },
  {
   "cell_type": "code",
   "execution_count": 182,
   "metadata": {},
   "outputs": [
    {
     "data": {
      "text/plain": [
       "\"C:\\\\Users\\\\kgeri\\\\Documents\\\\GitHub\\\\MolecularSynthesis\\\\Examples\""
      ]
     },
     "execution_count": 182,
     "metadata": {},
     "output_type": "execute_result"
    }
   ],
   "source": [
    "#path_to_mol_files = joinpath(homedir(), \"scratch\")\n",
    "path_to_mol_files = joinpath(homedir(), \"Documents\", \"GitHub\", \"MolecularSynthesis\", \"Examples\")"
   ]
  },
  {
   "cell_type": "code",
   "execution_count": 183,
   "metadata": {},
   "outputs": [
    {
     "data": {
      "text/plain": [
       "mol_to_xtal (generic function with 2 methods)"
      ]
     },
     "execution_count": 183,
     "metadata": {},
     "output_type": "execute_result"
    }
   ],
   "source": [
    "# convert mol to a crystal so we can have bond functionality.\n",
    "function mol_to_xtal(mol_file::String)\n",
    "    # read in mole file\n",
    "    atoms, bonds, bondtypes = read_mol(joinpath(path_to_mol_files, mol_file))\n",
    "    \n",
    "    # construct box that makes tobacco work\n",
    "    max_r = maximum([distance(atoms, i, j) for i = 1:atoms.n, j = 1:atoms.n])\n",
    "    L = 3 * max_r\n",
    "    box = Box(L, L, L)\n",
    "    \n",
    "    # convert atoms to fractional coords w this box\n",
    "    atoms = Frac(atoms, box)\n",
    "    \n",
    "    # construct a crystal\n",
    "    crystal = Crystal(split(mol_file, \".mol\")[1], \n",
    "                  box, \n",
    "                  atoms, \n",
    "                  Charges{Frac}(0), \n",
    "                  bonds, \n",
    "                  Xtals.SymmetryInfo()\n",
    "    )\n",
    "    return crystal\n",
    "end"
   ]
  },
  {
   "cell_type": "code",
   "execution_count": 184,
   "metadata": {},
   "outputs": [
    {
     "data": {
      "text/plain": [
       "ids_carboxylate (generic function with 1 method)"
      ]
     },
     "execution_count": 184,
     "metadata": {},
     "output_type": "execute_result"
    }
   ],
   "source": [
    "# must be a carbon\n",
    "# must be connected two two oxygens.\n",
    "function is_C_carboxyl(xtal::Crystal, a::Int64)\n",
    "    species = xtal.atoms.species[a]    # species of selected atom\n",
    "    nbs = neighbors(xtal.bonds, a)     # neighbors of atom\n",
    "    \n",
    "    if species != :C\n",
    "        return false\n",
    "    end\n",
    "    \n",
    "    # get # oxygen neighbors\n",
    "    nb_O_neighbors = 0\n",
    "    for a in nbs\n",
    "        if xtal.atoms.species[a] == :O\n",
    "            nb_O_neighbors += 1\n",
    "        end\n",
    "    end\n",
    "    if nb_O_neighbors == 2\n",
    "        return true\n",
    "    else\n",
    "        return false\n",
    "    end\n",
    "end\n",
    "\n",
    "# get ids of neighbors of atom a that are species x\n",
    "function ids_x_neighbors(xtal::Crystal, a::Int64, x::Symbol)\n",
    "    ids = Int[]\n",
    "    nbs = neighbors(xtal.bonds, a)     # neighbors of atom\n",
    "    for a in nbs\n",
    "        if xtal.atoms.species[a] == x\n",
    "            push!(ids, a)\n",
    "        end\n",
    "    end\n",
    "    return ids\n",
    "end\n",
    "\n",
    "function ids_X_atoms(xtal::Crystal)\n",
    "    ids = Int[]\n",
    "    for a = 1:xtal.atoms.n\n",
    "        if is_C_carboxyl(xtal, a)\n",
    "            ids_C_nbs = ids_x_neighbors(xtal, a, :C)\n",
    "            ids_N_nbs = ids_x_neighbors(xtal, a, :N)\n",
    "            ids_CN_nbs = vcat(ids_C_nbs, ids_N_nbs)\n",
    "            if length(ids_CN_nbs) != 1\n",
    "                error(\"wtf, carboxylate C is not bonded to another carbon or nitrogen.\")\n",
    "            end\n",
    "            push!(ids, ids_CN_nbs[1])\n",
    "        end\n",
    "    end\n",
    "    return ids\n",
    "end\n",
    "\n",
    "# get ids to remove: \n",
    "#    (i) carboxylate groups\n",
    "#    (ii) hydrogens connected to the oxygens of the carboxylate groups\n",
    "function ids_carboxylate(xtal::Crystal)\n",
    "    ids = Int[]\n",
    "    for a = 1:xtal.atoms.n\n",
    "        if is_C_carboxyl(xtal, a)\n",
    "            push!(ids, a)\n",
    "            ids_Os = ids_x_neighbors(xtal, a, :O)\n",
    "            for id_O in ids_Os\n",
    "                push!(ids, id_O)\n",
    "                ids_Hs = ids_x_neighbors(xtal, id_O, :H)\n",
    "                if length(ids_Hs) > 0\n",
    "                    push!(ids, ids_Hs[1])\n",
    "                elseif length(ids_Hs) > 1\n",
    "                    error(\"wtf\")\n",
    "                end\n",
    "            end\n",
    "        end\n",
    "    end\n",
    "    return ids\n",
    "end"
   ]
  },
  {
   "cell_type": "code",
   "execution_count": 185,
   "metadata": {},
   "outputs": [
    {
     "data": {
      "text/plain": [
       "xtal_to_tobacco_xtal (generic function with 1 method)"
      ]
     },
     "execution_count": 185,
     "metadata": {},
     "output_type": "execute_result"
    }
   ],
   "source": [
    "function xtal_to_tobacco_xtal(xtal::Crystal)\n",
    "    # get X atom ids, those that are C's connected to carboxylate C\n",
    "    ids_X = ids_X_atoms(xtal)\n",
    "    \n",
    "    # find atoms to keep (those that aren't caboxylates)\n",
    "    ids_keep = [i for i = 1:xtal.atoms.n if ! (i in ids_carboxylate(xtal))]\n",
    "    \n",
    "    # relabel X atoms \n",
    "    for id_X in ids_X\n",
    "        X_species = xtal.atoms.species[id_X]\n",
    "        xtal.atoms.species[id_X] = Symbol(\"X_\" * String(X_species))\n",
    "    end\n",
    "    \n",
    "    tobacco_xtal = xtal[ids_keep]\n",
    "    return tobacco_xtal\n",
    "end"
   ]
  },
  {
   "cell_type": "markdown",
   "metadata": {},
   "source": [
    "# main\n",
    "* read in .mol file of a linker\n",
    "* strip off carboxylates\n",
    "* label C atom that was connected to the carboxylate as `:X`."
   ]
  },
  {
   "cell_type": "code",
   "execution_count": 186,
   "metadata": {},
   "outputs": [
    {
     "name": "stdout",
     "output_type": "stream",
     "text": [
      "Saving bond information for crystal 2 to C:\\Users\\kgeri\\Documents\\GitHub\\MolecularSynthesis\\2_bonds.vtk.\n"
     ]
    }
   ],
   "source": [
    "xtal = mol_to_xtal(\"2.mol\")\n",
    "\n",
    "tobacco_xtal = xtal_to_tobacco_xtal(xtal)\n",
    "\n",
    "write_xyz(tobacco_xtal)\n",
    "write_bond_information(tobacco_xtal)\n",
    "\n",
    "write_cif(tobacco_xtal, xtal.name * \"_tobacco.cif\")"
   ]
  },
  {
   "cell_type": "code",
   "execution_count": 188,
   "metadata": {},
   "outputs": [
    {
     "data": {
      "text/plain": [
       "center! (generic function with 1 method)"
      ]
     },
     "execution_count": 188,
     "metadata": {},
     "output_type": "execute_result"
    }
   ],
   "source": [
    "function center!(xtal::Crystal)\n",
    "    # geometric center\n",
    "    xf_center = sum(xtal.atoms.coords.xf, dims=2) / xtal.atoms.n\n",
    "    \n",
    "    xtal.atoms.coords.xf .= mod.(xtal.atoms.coords.xf .- xf_center, 1.0)\n",
    "    return nothing\n",
    "end"
   ]
  },
  {
   "cell_type": "code",
   "execution_count": 189,
   "metadata": {},
   "outputs": [],
   "source": [
    "center!(tobacco_xtal)"
   ]
  },
  {
   "cell_type": "code",
   "execution_count": 190,
   "metadata": {},
   "outputs": [],
   "source": [
    "write_cif(tobacco_xtal, \"tbc_center.cif\")"
   ]
  },
  {
   "cell_type": "code",
   "execution_count": 203,
   "metadata": {},
   "outputs": [
    {
     "data": {
      "text/plain": [
       "write_cif_Kai"
      ]
     },
     "execution_count": 203,
     "metadata": {},
     "output_type": "execute_result"
    }
   ],
   "source": [
    "\"\"\"\n",
    "    write_cif(crystal, filename; fractional_coords=true, number_atoms=true)\n",
    "Write a `crystal::Crystal` to a .cif file with `filename::AbstractString`. If `filename` does\n",
    "not include the .cif extension, it will automatically be added. the `fractional_coords` flag\n",
    "allows us to write either fractional or Cartesian coordinates.\n",
    "\"\"\"\n",
    "function write_cif_Kai(crystal::Crystal, filename::AbstractString)\n",
    "    if has_charges(crystal)\n",
    "        if crystal.atoms.n != crystal.charges.n\n",
    "            error(\"write_cif assumes equal numbers of Charges and Atoms (or zero charges)\")\n",
    "        end\n",
    "        if ! isapprox(crystal.charges.coords, crystal.atoms.coords)\n",
    "            error(\"write_cif needs coords of atoms and charges to correspond.\")\n",
    "        end\n",
    "    end\n",
    "    # append \".cif\" to filename if it doesn't already have the extension\n",
    "    if ! occursin(\".cif\", filename)\n",
    "        filename *= \".cif\"\n",
    "    end\n",
    "    cif_file = open(filename, \"w\")\n",
    "    # first line should be data_xtalname_PM\n",
    "    if crystal.name == \"\"\n",
    "        @printf(cif_file, \"data_PM\\n\")\n",
    "    else\n",
    "        # don't include file extension!\n",
    "        @printf(cif_file, \"data_%s_PM\\n\", split(crystal.name, \".\")[1])\n",
    "    end\n",
    "\n",
    "    @printf(cif_file, \"_symmetry_space_group_name_H-M\\t'%s'\\n\", crystal.symmetry.space_group)\n",
    "\n",
    "    @printf(cif_file, \"_cell_length_a\\t%f\\n\", crystal.box.a)\n",
    "    @printf(cif_file, \"_cell_length_b\\t%f\\n\", crystal.box.b)\n",
    "    @printf(cif_file, \"_cell_length_c\\t%f\\n\", crystal.box.c)\n",
    "\n",
    "    @printf(cif_file, \"_cell_angle_alpha\\t%f\\n\", crystal.box.α * 180.0 / pi)\n",
    "    @printf(cif_file, \"_cell_angle_beta\\t%f\\n\", crystal.box.β * 180.0 / pi)\n",
    "    @printf(cif_file, \"_cell_angle_gamma\\t%f\\n\", crystal.box.γ * 180.0 / pi)\n",
    "\n",
    "    @printf(cif_file, \"_symmetry_Int_Tables_number 1\\n\\n\")\n",
    "    @printf(cif_file, \"loop_\\n_symmetry_equiv_pos_as_xyz\\n\")\n",
    "    for i in 1:size(crystal.symmetry.operations, 2)\n",
    "        @printf(cif_file, \"'%s,%s,%s'\\n\", crystal.symmetry.operations[:, i]...)\n",
    "    end\n",
    "    @printf(cif_file, \"\\n\")\n",
    "\n",
    "    @printf(cif_file, \"loop_\\n_atom_site_label\\n_atom_site_type_symbol\\n\")\n",
    "    @printf(cif_file, \"_atom_site_fract_x\\n_atom_site_fract_y\\n_atom_site_fract_z\\n\")\n",
    "    high_precision_charges = false # if, for neutrality, need high-precision charges\n",
    "    if has_charges(crystal)\n",
    "        @printf(cif_file, \"_atom_site_charge\\n\")\n",
    "        # if crystal will not be charge neutral to a 1e-5 tolerance when loading it\n",
    "        #    into PorousMaterials.jl, then write higher-precision charges\n",
    "        if abs(sum(round.(crystal.charges.q, digits=6))) > NET_CHARGE_TOL\n",
    "            @info \"writing high-precision charges for \" * filename * \".\\n\"\n",
    "            high_precision_charges = true\n",
    "        end\n",
    "    end\n",
    "\n",
    "    \n",
    "    nb_of_X = 0\n",
    "    for i = 1:crystal.atoms.n\n",
    "        # print label and type symbol\n",
    "        \n",
    "        if split(string(crystal.atoms.species[i]), \"_\")[1] == \"X\"   \n",
    "            @printf(cif_file, \"%s\\t%s\\t\", \"X\" * string(i),\n",
    "                split(string(crystal.atoms.species[i]), \"_\")[2])\n",
    "        else\n",
    "            @printf(cif_file, \"%s\\t%s\\t\", string(crystal.atoms.species[i]) *\n",
    "                string(i),\n",
    "                crystal.atoms.species[i])\n",
    "        end\n",
    "        \n",
    "        # increment label\n",
    "        \n",
    "        @printf(cif_file, \"%f\\t%f\\t%f\", crystal.atoms.coords.xf[:, i]...)\n",
    "        if has_charges(crystal)\n",
    "            if high_precision_charges\n",
    "                @printf(cif_file, \"\\t%.10f\\n\", crystal.charges.q[i])\n",
    "            else\n",
    "                @printf(cif_file, \"\\t%f\\n\", crystal.charges.q[i])\n",
    "            end\n",
    "        else\n",
    "            @printf(cif_file, \"\\n\")\n",
    "        end\n",
    "    end\n",
    "\n",
    "    # only print bond information if it is in the crystal\n",
    "    if ne(crystal.bonds) > 0\n",
    "        # print column names for bond information\n",
    "        @printf(cif_file, \"\\nloop_\\n_geom_bond_atom_site_label_1\\n_geom_bond_atom_site_label_2\\n_geom_bond_distance\\n_ccdc_geom_bond_type\\n\")\n",
    "\n",
    "        for edge in collect(edges(crystal.bonds))\n",
    "            dxf = crystal.atoms.coords.xf[:, edge.src] - crystal.atoms.coords.xf[:, edge.dst]\n",
    "            nearest_image!(dxf)\n",
    "            i = edge.src\n",
    "            j = edge.dst\n",
    "            i_label = string(crystal.atoms.species[i]) * string(i)\n",
    "            j_label = string(crystal.atoms.species[j]) * string(j)\n",
    "            if split(string(crystal.atoms.species[i]), \"_\")[1] == \"X\"\n",
    "                i_label = \"X\" * string(i)\n",
    "            elseif split(string(crystal.atoms.species[j]), \"_\")[1] == \"X\"\n",
    "                j_label = \"X\" * string(j)\n",
    "            end\n",
    "            @printf(cif_file, \"%s\\t%s\\t%0.5f\\t%s\\n\", i_label, j_label,\n",
    "                    norm(dxf), \". A\")\n",
    "        end\n",
    "    end\n",
    "    close(cif_file)\n",
    "end"
   ]
  },
  {
   "cell_type": "code",
   "execution_count": 204,
   "metadata": {},
   "outputs": [],
   "source": [
    "write_cif_Kai(tobacco_xtal, xtal.name * \"_fer_tobacco.cif\")"
   ]
  },
  {
   "cell_type": "code",
   "execution_count": null,
   "metadata": {},
   "outputs": [],
   "source": []
  },
  {
   "cell_type": "code",
   "execution_count": null,
   "metadata": {},
   "outputs": [],
   "source": []
  }
 ],
 "metadata": {
  "kernelspec": {
   "display_name": "Julia 1.5.1",
   "language": "julia",
   "name": "julia-1.5"
  },
  "language_info": {
   "file_extension": ".jl",
   "mimetype": "application/julia",
   "name": "julia",
   "version": "1.5.1"
  }
 },
 "nbformat": 4,
 "nbformat_minor": 4
}
