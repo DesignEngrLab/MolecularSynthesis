{
 "cells": [
  {
   "cell_type": "code",
   "execution_count": null,
   "metadata": {
    "scrolled": true
   },
   "outputs": [],
   "source": [
    "using Pkg\n",
    "Pkg.add(\"DataFrames\")\n",
    "Pkg.add(\"CSV\")\n",
    "Pkg.add(url = \"https://github.com/SimonEnsemble/Xtals.jl.git\")"
   ]
  },
  {
   "cell_type": "code",
   "execution_count": null,
   "metadata": {},
   "outputs": [],
   "source": []
  },
  {
   "cell_type": "code",
   "execution_count": 11,
   "metadata": {},
   "outputs": [],
   "source": [
    "using DataFrames\n",
    "using CSV\n",
    "using Printf\n",
    "using Statistics\n",
    "using LinearAlgebra"
   ]
  },
  {
   "cell_type": "code",
   "execution_count": 12,
   "metadata": {},
   "outputs": [],
   "source": [
    "using Xtals\n",
    "using LightGraphs\n",
    "using GraphPlot"
   ]
  },
  {
   "cell_type": "code",
   "execution_count": 13,
   "metadata": {},
   "outputs": [
    {
     "data": {
      "text/plain": [
       "\"0.mol\""
      ]
     },
     "execution_count": 13,
     "metadata": {},
     "output_type": "execute_result"
    }
   ],
   "source": [
    "mol_file = \"0.mol\""
   ]
  },
  {
   "cell_type": "code",
   "execution_count": 14,
   "metadata": {
    "scrolled": false
   },
   "outputs": [
    {
     "data": {
      "text/plain": [
       "(Atoms{Cart}(47, [:O, :C, :O, :C, :H, :C, :C, :C, :C, :C  …  :H, :H, :H, :H, :H, :H, :O, :O, :O, :H], Cart([1.512 0.769 … 0.689 -0.316; 0.498 1.618 … 18.076 19.979; -0.014 -0.112 … 1.186 0.0])), {47, 49} undirected Int64 metagraph with Float64 weights defined by :weight (default weight 1.0), [1, 1, 2, 1, 5, 5, 5, 1, 1, 5  …  1, 1, 1, 1, 1, 2, 1, 1, 1, 1])"
      ]
     },
     "execution_count": 14,
     "metadata": {},
     "output_type": "execute_result"
    }
   ],
   "source": [
    "atoms, bonds, bondtypes = read_mol(joinpath(homedir(), \"Documents\", \"GitHub\", \"MolecularSynthesis\", \"examples\", mol_file))\n",
    "#atoms = read_xyz(joinpath(homedir(), \"Documents\", \"Grad School\", \"Research\", \"examples\", \"1.xyz\"))"
   ]
  },
  {
   "cell_type": "code",
   "execution_count": 15,
   "metadata": {},
   "outputs": [
    {
     "data": {
      "text/plain": [
       "59.292220779795386"
      ]
     },
     "execution_count": 15,
     "metadata": {},
     "output_type": "execute_result"
    }
   ],
   "source": [
    "r = maximum([distance(atoms, i, j) for i = 1:atoms.n, j = 1:atoms.n])\n",
    "box_length = 3*r"
   ]
  },
  {
   "cell_type": "code",
   "execution_count": 16,
   "metadata": {},
   "outputs": [
    {
     "data": {
      "text/plain": [
       "Atoms{Frac}(47, [:O, :C, :O, :C, :H, :C, :C, :C, :C, :C  …  :H, :H, :H, :H, :H, :H, :O, :O, :O, :H], Frac([0.025500815791929896 0.012969660941795032 … 0.011620411428994488 -0.005329535575562089; 0.00839907821718326 0.02728857139639059 … 0.30486292741727833 0.33695820020302075; -0.00023611866474009164 -0.0018889493179207332 … 0.02000262402726776 0.0]))"
      ]
     },
     "execution_count": 16,
     "metadata": {},
     "output_type": "execute_result"
    }
   ],
   "source": [
    "box = Box(box_length,box_length,box_length)\n",
    "atoms=Frac(atoms, box)"
   ]
  },
  {
   "cell_type": "code",
   "execution_count": 17,
   "metadata": {
    "scrolled": false
   },
   "outputs": [
    {
     "data": {
      "text/plain": [
       "Name: crystal.cif\n",
       "Bravais unit cell of a crystal.\n",
       "\tUnit cell angles α = 90.000000 deg. β = 90.000000 deg. γ = 90.000000 deg.\n",
       "\tUnit cell dimensions a = 59.292221 Å. b = 59.292221 Å, c = 59.292221 Å\n",
       "\tVolume of unit cell: 208445.801115 Å³\n",
       "\n",
       "\t# atoms = 47\n",
       "\t# charges = 0\n",
       "\tchemical formula: Dict(:N => 2,:H => 20,:O => 5,:C => 20)\n",
       "\tspace Group: P1\n",
       "\tsymmetry Operations:\n",
       "\t\t'x, y, z'\n"
      ]
     },
     "execution_count": 17,
     "metadata": {},
     "output_type": "execute_result"
    }
   ],
   "source": [
    "crystal = Crystal(\"crystal.cif\", box, atoms, Charges{Frac}(0), bonds, Xtals.SymmetryInfo())"
   ]
  },
  {
   "cell_type": "code",
   "execution_count": 18,
   "metadata": {},
   "outputs": [
    {
     "data": {
      "text/plain": [
       "Name: tobacco_crystal.cif\n",
       "Bravais unit cell of a crystal.\n",
       "\tUnit cell angles α = 90.000000 deg. β = 90.000000 deg. γ = 90.000000 deg.\n",
       "\tUnit cell dimensions a = 59.292221 Å. b = 59.292221 Å, c = 59.292221 Å\n",
       "\tVolume of unit cell: 208445.801115 Å³\n",
       "\n",
       "\t# atoms = 47\n",
       "\t# charges = 0\n",
       "\tchemical formula: Dict(:N => 2,:H => 20,:O => 5,:C => 20)\n",
       "\tspace Group: P1\n",
       "\tsymmetry Operations:\n",
       "\t\t'x, y, z'\n"
      ]
     },
     "execution_count": 18,
     "metadata": {},
     "output_type": "execute_result"
    }
   ],
   "source": [
    "crystal2 = Crystal(\"tobacco_crystal.cif\", box, atoms, Charges{Frac}(0), bonds, Xtals.SymmetryInfo())"
   ]
  },
  {
   "cell_type": "code",
   "execution_count": 14,
   "metadata": {
    "scrolled": true
   },
   "outputs": [
    {
     "name": "stdout",
     "output_type": "stream",
     "text": [
      "Edge 1 => 2\n",
      "atom O is connected to C\n",
      "Edge 1 => 5\n",
      "atom O is connected to H\n",
      "Edge 2 => 3\n",
      "atom C is connected to O\n",
      "Edge 2 => 4\n",
      "atom C is connected to X\n",
      "Edge 4 => 6\n",
      "atom X is connected to C\n",
      "Edge 4 => 10\n",
      "atom X is connected to C\n",
      "Edge 6 => 7\n",
      "atom C is connected to C\n",
      "Edge 6 => 13\n",
      "atom C is connected to H\n",
      "Edge 7 => 8\n",
      "atom C is connected to C\n",
      "Edge 7 => 12\n",
      "atom C is connected to H\n",
      "Edge 8 => 9\n",
      "atom C is connected to C\n",
      "Edge 8 => 11\n",
      "atom C is connected to C\n",
      "Edge 9 => 10\n",
      "atom C is connected to C\n",
      "Edge 9 => 44\n",
      "atom C is connected to O\n",
      "Edge 10 => 14\n",
      "atom C is connected to H\n",
      "Edge 11 => 16\n",
      "atom C is connected to C\n",
      "Edge 11 => 20\n",
      "atom C is connected to C\n",
      "Edge 15 => 41\n",
      "atom C is connected to H\n",
      "Edge 15 => 42\n",
      "atom C is connected to H\n",
      "Edge 15 => 43\n",
      "atom C is connected to H\n",
      "Edge 15 => 44\n",
      "atom C is connected to O\n",
      "Edge 16 => 17\n",
      "atom C is connected to C\n",
      "Edge 16 => 23\n",
      "atom C is connected to H\n",
      "Edge 17 => 18\n",
      "atom C is connected to C\n",
      "Edge 17 => 22\n",
      "atom C is connected to H\n",
      "Edge 18 => 19\n",
      "atom C is connected to C\n",
      "Edge 18 => 21\n",
      "atom C is connected to C\n",
      "Edge 19 => 20\n",
      "atom C is connected to C\n",
      "Edge 19 => 25\n",
      "atom C is connected to H\n",
      "Edge 20 => 24\n",
      "atom C is connected to H\n",
      "Edge 21 => 26\n",
      "atom C is connected to C\n",
      "Edge 21 => 29\n",
      "atom C is connected to H\n",
      "Edge 26 => 27\n",
      "atom C is connected to C\n",
      "Edge 26 => 28\n",
      "atom C is connected to H\n",
      "Edge 27 => 30\n",
      "atom C is connected to C\n",
      "Edge 27 => 33\n",
      "atom C is connected to N\n",
      "Edge 27 => 40\n",
      "atom C is connected to H\n",
      "Edge 30 => 31\n",
      "atom C is connected to X\n",
      "Edge 30 => 37\n",
      "atom C is connected to H\n",
      "Edge 30 => 39\n",
      "atom C is connected to H\n",
      "Edge 31 => 32\n",
      "atom X is connected to N\n",
      "Edge 31 => 34\n",
      "atom X is connected to C\n",
      "Edge 31 => 38\n",
      "atom X is connected to H\n",
      "Edge 32 => 33\n",
      "atom N is connected to N\n",
      "Edge 32 => 36\n",
      "atom N is connected to H\n",
      "Edge 33 => 35\n",
      "atom N is connected to H\n",
      "Edge 34 => 45\n",
      "atom C is connected to O\n",
      "Edge 34 => 46\n",
      "atom C is connected to O\n",
      "Edge 45 => 47\n",
      "atom O is connected to H\n"
     ]
    }
   ],
   "source": [
    "for ed in edges(crystal.bonds)\n",
    "   \n",
    "    println(ed)\n",
    "    i = ed.src\n",
    "    j = ed.dst\n",
    "       \n",
    "    species_i = crystal.atoms.species[i]\n",
    "    species_j = crystal.atoms.species[j]\n",
    "    println(\"atom \", species_i, \" is connected to \", species_j)\n",
    "    \n",
    "\n",
    "end"
   ]
  },
  {
   "cell_type": "code",
   "execution_count": 19,
   "metadata": {},
   "outputs": [
    {
     "data": {
      "text/plain": [
       "identify_carboxyl (generic function with 1 method)"
      ]
     },
     "execution_count": 19,
     "metadata": {},
     "output_type": "execute_result"
    }
   ],
   "source": [
    "### Function to identify carboxyl. When species is carbon, checks if it has two oxygen neighbors. \n",
    "### If it does, returns oxygen id's, anchor id, and oxygen's hydrogen id\n",
    "\n",
    "function identify_carboxyl(crystal::Crystal, a::Int64)\n",
    "   \n",
    "    species = crystal.atoms.species[a]    #Identify species of selected atom\n",
    "    nbs = neighbors(crystal.bonds, a)     #Identify neighbors of atom\n",
    "    \n",
    "    if species == :C                      #Identifying carboxylate starts with carbon\n",
    "        oxygen_counter = 0\n",
    "        oxygen_id = Int64[]\n",
    "        X_id = 0\n",
    "        H_id = 0\n",
    "        for nb in nbs                     #Iterating through neighbors via identifying number\n",
    "            species_nb = crystal.atoms.species[nb] #Get species of neighbor\n",
    "            if species_nb == :O\n",
    "                \n",
    "                next_nbs = neighbors(crystal.bonds, nb)  #Get neighbors of oxygen (finding hydrogen)\n",
    "                \n",
    "                for next_nb in next_nbs\n",
    "                    species_next_nb = crystal.atoms.species[next_nb]  #Get species of oxygen's neighbors\n",
    "                    if species_next_nb == :H     #Identify hydrogen neighbor\n",
    "                        H_id = next_nb\n",
    "                    else\n",
    "                    end\n",
    "                end\n",
    "                \n",
    "                oxygen_counter += 1\n",
    "                push!(oxygen_id, nb)         #Enter oxygen id into array\n",
    "            else\n",
    "                X_id = nb            #If neighbor of carboxylate carbon isn't oxygen, must be anchor\n",
    "            end\n",
    "        end\n",
    "        \n",
    "        if oxygen_counter == 2   #Assuming carboxylate carbon is only carbon with two oxygens bonded\n",
    "        \n",
    "            return true, oxygen_id, X_id, H_id\n",
    "        else \n",
    "            return false, [], 0, 0\n",
    "        end\n",
    "    else\n",
    "        return false, [], 0, 0\n",
    "    end\n",
    "\n",
    "end"
   ]
  },
  {
   "cell_type": "code",
   "execution_count": null,
   "metadata": {
    "scrolled": false
   },
   "outputs": [],
   "source": [
    "identify_carboxyl(crystal2, 26)"
   ]
  },
  {
   "cell_type": "code",
   "execution_count": 20,
   "metadata": {},
   "outputs": [],
   "source": [
    "#\n",
    "\n",
    "keep = [true for i = 1:crystal2.atoms.n]\n",
    "\n",
    "X_species = Symbol[]\n",
    "X_ids = Int64[]\n",
    "\n",
    "for a = 1:crystal2.atoms.n\n",
    "       \n",
    "   \n",
    "\n",
    "    is_carboxyl, oxygen_ids, X_id, H_id = identify_carboxyl(crystal2, a)\n",
    "    \n",
    "    if is_carboxyl == true \n",
    "    \n",
    "        push!(X_species, crystal2.atoms.species[X_id])\n",
    "        push!(X_ids, X_id)\n",
    "        crystal.atoms.species[X_id] = :X\n",
    "        crystal2.atoms.species[X_id] = :X\n",
    "        @assert length(oxygen_ids) == 2\n",
    "        keep[oxygen_ids] .= false\n",
    "        keep[a] = false\n",
    "        keep[H_id] = false\n",
    "        \n",
    "    end\n",
    "\n",
    "\n",
    "end"
   ]
  },
  {
   "cell_type": "code",
   "execution_count": 21,
   "metadata": {},
   "outputs": [
    {
     "name": "stdout",
     "output_type": "stream",
     "text": [
      "Edge 1 => 2\n",
      "atom O is connected to C\n",
      "Edge 1 => 5\n",
      "atom O is connected to H\n",
      "Edge 2 => 3\n",
      "atom C is connected to O\n",
      "Edge 2 => 4\n",
      "atom C is connected to X\n",
      "Edge 4 => 6\n",
      "atom X is connected to C\n",
      "Edge 4 => 10\n",
      "atom X is connected to C\n",
      "Edge 6 => 7\n",
      "atom C is connected to C\n",
      "Edge 6 => 13\n",
      "atom C is connected to H\n",
      "Edge 7 => 8\n",
      "atom C is connected to C\n",
      "Edge 7 => 12\n",
      "atom C is connected to H\n",
      "Edge 8 => 9\n",
      "atom C is connected to C\n",
      "Edge 8 => 11\n",
      "atom C is connected to C\n",
      "Edge 9 => 10\n",
      "atom C is connected to C\n",
      "Edge 9 => 44\n",
      "atom C is connected to O\n",
      "Edge 10 => 14\n",
      "atom C is connected to H\n",
      "Edge 11 => 16\n",
      "atom C is connected to C\n",
      "Edge 11 => 20\n",
      "atom C is connected to C\n",
      "Edge 15 => 41\n",
      "atom C is connected to H\n",
      "Edge 15 => 42\n",
      "atom C is connected to H\n",
      "Edge 15 => 43\n",
      "atom C is connected to H\n",
      "Edge 15 => 44\n",
      "atom C is connected to O\n",
      "Edge 16 => 17\n",
      "atom C is connected to C\n",
      "Edge 16 => 23\n",
      "atom C is connected to H\n",
      "Edge 17 => 18\n",
      "atom C is connected to C\n",
      "Edge 17 => 22\n",
      "atom C is connected to H\n",
      "Edge 18 => 19\n",
      "atom C is connected to C\n",
      "Edge 18 => 21\n",
      "atom C is connected to C\n",
      "Edge 19 => 20\n",
      "atom C is connected to C\n",
      "Edge 19 => 25\n",
      "atom C is connected to H\n",
      "Edge 20 => 24\n",
      "atom C is connected to H\n",
      "Edge 21 => 26\n",
      "atom C is connected to C\n",
      "Edge 21 => 29\n",
      "atom C is connected to H\n",
      "Edge 26 => 27\n",
      "atom C is connected to C\n",
      "Edge 26 => 28\n",
      "atom C is connected to H\n",
      "Edge 27 => 30\n",
      "atom C is connected to C\n",
      "Edge 27 => 33\n",
      "atom C is connected to N\n",
      "Edge 27 => 40\n",
      "atom C is connected to H\n",
      "Edge 30 => 31\n",
      "atom C is connected to X\n",
      "Edge 30 => 37\n",
      "atom C is connected to H\n",
      "Edge 30 => 39\n",
      "atom C is connected to H\n",
      "Edge 31 => 32\n",
      "atom X is connected to N\n",
      "Edge 31 => 34\n",
      "atom X is connected to C\n",
      "Edge 31 => 38\n",
      "atom X is connected to H\n",
      "Edge 32 => 33\n",
      "atom N is connected to N\n",
      "Edge 32 => 36\n",
      "atom N is connected to H\n",
      "Edge 33 => 35\n",
      "atom N is connected to H\n",
      "Edge 34 => 45\n",
      "atom C is connected to O\n",
      "Edge 34 => 46\n",
      "atom C is connected to O\n",
      "Edge 45 => 47\n",
      "atom O is connected to H\n"
     ]
    }
   ],
   "source": [
    "for ed in edges(crystal.bonds)\n",
    "   \n",
    "    println(ed)\n",
    "    i = ed.src\n",
    "    j = ed.dst\n",
    "       \n",
    "    species_i = crystal2.atoms.species[i]\n",
    "    species_j = crystal2.atoms.species[j]\n",
    "    println(\"atom \", species_i, \" is connected to \", species_j)\n",
    "    \n",
    "\n",
    "end"
   ]
  },
  {
   "cell_type": "code",
   "execution_count": 22,
   "metadata": {},
   "outputs": [
    {
     "data": {
      "text/plain": [
       "Name: tobacco_crystal.cif\n",
       "Bravais unit cell of a crystal.\n",
       "\tUnit cell angles α = 90.000000 deg. β = 90.000000 deg. γ = 90.000000 deg.\n",
       "\tUnit cell dimensions a = 59.292221 Å. b = 59.292221 Å, c = 59.292221 Å\n",
       "\tVolume of unit cell: 208445.801115 Å³\n",
       "\n",
       "\t# atoms = 39\n",
       "\t# charges = 0\n",
       "\tchemical formula: Dict(:N => 2,:H => 18,:X => 2,:O => 1,:C => 16)\n",
       "\tspace Group: P1\n",
       "\tsymmetry Operations:\n",
       "\t\t'x, y, z'\n"
      ]
     },
     "execution_count": 22,
     "metadata": {},
     "output_type": "execute_result"
    }
   ],
   "source": [
    "tobacco_crystal = crystal2[BitArray(keep)]"
   ]
  },
  {
   "cell_type": "code",
   "execution_count": 26,
   "metadata": {},
   "outputs": [
    {
     "name": "stderr",
     "output_type": "stream",
     "text": [
      "┌ Warning: atom 1 = X in tobacco_crystal.cif is not bonded to any other atom.\n",
      "└ @ Xtals C:\\Users\\kgeri\\.julia\\packages\\Xtals\\Hr2Rt\\src\\bonds.jl:430\n"
     ]
    },
    {
     "data": {
      "text/plain": [
       "false"
      ]
     },
     "execution_count": 26,
     "metadata": {},
     "output_type": "execute_result"
    }
   ],
   "source": [
    "#infer_bonds!(crystal, false)\n",
    "infer_bonds!(tobacco_crystal, false)"
   ]
  },
  {
   "cell_type": "code",
   "execution_count": 27,
   "metadata": {},
   "outputs": [],
   "source": [
    "write_xyz(tobacco_crystal)\n",
    "write_xyz(crystal)"
   ]
  },
  {
   "cell_type": "code",
   "execution_count": 28,
   "metadata": {},
   "outputs": [
    {
     "name": "stdout",
     "output_type": "stream",
     "text": [
      "Saving bond information for crystal crystal.cif to C:\\Users\\kgeri\\Documents\\GitHub\\MolecularSynthesis\\crystal_bonds.vtk.\n",
      "Saving bond information for crystal tobacco_crystal.cif to C:\\Users\\kgeri\\Documents\\GitHub\\MolecularSynthesis\\tobacco_crystal_bonds.vtk.\n"
     ]
    }
   ],
   "source": [
    "write_bond_information(crystal)\n",
    "write_bond_information(tobacco_crystal)"
   ]
  },
  {
   "cell_type": "code",
   "execution_count": 15,
   "metadata": {},
   "outputs": [],
   "source": [
    "write_mol2(crystal)\n",
    "write_mol2(tobacco_crystal)"
   ]
  },
  {
   "cell_type": "code",
   "execution_count": null,
   "metadata": {},
   "outputs": [],
   "source": [
    "write_cif(crystal, \"crystal.cif\")"
   ]
  },
  {
   "cell_type": "code",
   "execution_count": 16,
   "metadata": {
    "scrolled": true
   },
   "outputs": [
    {
     "data": {
      "text/plain": [
       "Name: tobacco_crystal.cif\n",
       "Bravais unit cell of a crystal.\n",
       "\tUnit cell angles α = 90.000000 deg. β = 90.000000 deg. γ = 90.000000 deg.\n",
       "\tUnit cell dimensions a = 59.292221 Å. b = 59.292221 Å, c = 59.292221 Å\n",
       "\tVolume of unit cell: 208445.801115 Å³\n",
       "\n",
       "\t# atoms = 39\n",
       "\t# charges = 0\n",
       "\tchemical formula: Dict(:N => 2,:H => 18,:X => 2,:O => 1,:C => 16)\n",
       "\tspace Group: P1\n",
       "\tsymmetry Operations:\n",
       "\t\t'x, y, z'\n"
      ]
     },
     "execution_count": 16,
     "metadata": {},
     "output_type": "execute_result"
    }
   ],
   "source": []
  },
  {
   "cell_type": "code",
   "execution_count": 22,
   "metadata": {},
   "outputs": [],
   "source": [
    "for ed in edges(tobacco_crystal.bonds)\n",
    "   \n",
    "    println(ed)\n",
    "    i = ed.src\n",
    "    j = ed.dst\n",
    "       \n",
    "    species_i = tobacco_crystal.atoms.species[i]\n",
    "    species_j = tobacco_crystal.atoms.species[j]\n",
    "    println(\"atom \", species_i, \" is connected to \", species_j)\n",
    "\n",
    "\n",
    "end"
   ]
  },
  {
   "cell_type": "code",
   "execution_count": 23,
   "metadata": {},
   "outputs": [
    {
     "data": {
      "text/plain": [
       "center_mass (generic function with 1 method)"
      ]
     },
     "execution_count": 23,
     "metadata": {},
     "output_type": "execute_result"
    }
   ],
   "source": [
    "function center_mass(crystal::Crystal)\n",
    "    xf_cm = sum(crystal.atoms.coords.xf, dims = 2)\n",
    "    frctn_xf_cm = xf_cm ./ crystal.atoms.n\n",
    "    new_coords = crystal.atoms.coords.xf .- frctn_xf_cm\n",
    "    crystal.atoms.coords.xf .= mod.(crystal.atoms.coords.xf, 1)\n",
    "    crystal.atoms.coords.xf .= new_coords\n",
    "    \n",
    "    return crystal\n",
    "end"
   ]
  },
  {
   "cell_type": "code",
   "execution_count": 24,
   "metadata": {},
   "outputs": [
    {
     "data": {
      "text/plain": [
       "Name: tobacco_crystal.cif\n",
       "Bravais unit cell of a crystal.\n",
       "\tUnit cell angles α = 90.000000 deg. β = 90.000000 deg. γ = 90.000000 deg.\n",
       "\tUnit cell dimensions a = 59.292221 Å. b = 59.292221 Å, c = 59.292221 Å\n",
       "\tVolume of unit cell: 208445.801115 Å³\n",
       "\n",
       "\t# atoms = 39\n",
       "\t# charges = 0\n",
       "\tchemical formula: Dict(:N => 2,:H => 18,:X => 2,:O => 1,:C => 16)\n",
       "\tspace Group: P1\n",
       "\tsymmetry Operations:\n",
       "\t\t'x, y, z'\n"
      ]
     },
     "execution_count": 24,
     "metadata": {},
     "output_type": "execute_result"
    }
   ],
   "source": [
    "tobacco_crystal = center_mass(tobacco_crystal)"
   ]
  },
  {
   "cell_type": "code",
   "execution_count": 25,
   "metadata": {},
   "outputs": [],
   "source": [
    "write_mol2(tobacco_crystal)"
   ]
  },
  {
   "cell_type": "code",
   "execution_count": null,
   "metadata": {},
   "outputs": [],
   "source": [
    "for edge in collect(edges(tobacco_crystal.bonds))\n",
    "            dxf = tobacco_crystal.atoms.coords.xf[:, edge.src] - tobacco_crystal.atoms.coords.xf[:, edge.dst]\n",
    "            nearest_image!(dxf)\n",
    "            @printf(\"%s\\t%s\\t%0.5f\\t%s\\n\", tobacco_crystal.atoms.species[edge.src], tobacco_crystal.atoms.species[edge.dst],\n",
    "                    norm(dxf), \". A\")\n",
    "end"
   ]
  },
  {
   "cell_type": "code",
   "execution_count": null,
   "metadata": {
    "scrolled": false
   },
   "outputs": [],
   "source": [
    "\n",
    "for ed in edges(crystal.bonds)\n",
    "   \n",
    "    #println(ed)\n",
    "    i = ed.src\n",
    "    j = ed.dst\n",
    "       \n",
    "    species_i = crystal.atoms.species[i]\n",
    "    species_j = crystal.atoms.species[j]\n",
    "    dxf = crystal.atoms.coords.xf[:, i] - crystal.atoms.coords.xf[:, j]\n",
    "    nearest_image!(dxf)\n",
    "    norm_dxf = norm(dxf)\n",
    "    println(norm_dxf)\n",
    "    println(\"atom \", species_i, \" is connected to \", species_j)\n",
    "\n",
    "end"
   ]
  },
  {
   "cell_type": "code",
   "execution_count": 27,
   "metadata": {},
   "outputs": [
    {
     "data": {
      "text/plain": [
       "write_cif_Kai"
      ]
     },
     "execution_count": 27,
     "metadata": {},
     "output_type": "execute_result"
    }
   ],
   "source": [
    "\"\"\"\n",
    "    write_cif(crystal, filename; fractional_coords=true, number_atoms=true)\n",
    "Write a `crystal::Crystal` to a .cif file with `filename::AbstractString`. If `filename` does\n",
    "not include the .cif extension, it will automatically be added. the `fractional_coords` flag\n",
    "allows us to write either fractional or Cartesian coordinates.\n",
    "\"\"\"\n",
    "function write_cif_Kai(crystal::Crystal, filename::AbstractString, X_species::Array{Symbol,1}, X_ids::Array{Int64,1};\n",
    "\t\t fractional_coords::Bool=true, number_atoms::Bool=true)\n",
    "    if has_charges(crystal)\n",
    "        if crystal.atoms.n != crystal.charges.n\n",
    "            error(\"write_cif assumes equal numbers of Charges and Atoms (or zero charges)\")\n",
    "        end\n",
    "        if ! isapprox(crystal.charges.coords, crystal.atoms.coords)\n",
    "            error(\"write_cif needs coords of atoms and charges to correspond.\")\n",
    "        end\n",
    "    end\n",
    "\n",
    "\n",
    "\n",
    "    # append \".cif\" to filename if it doesn't already have the extension\n",
    "    if ! occursin(\".cif\", filename)\n",
    "        filename *= \".cif\"\n",
    "    end\n",
    "    cif_file = open(filename, \"w\")\n",
    "    # first line should be data_xtalname_PM\n",
    "    if crystal.name == \"\"\n",
    "        @printf(cif_file, \"data_PM\\n\")\n",
    "    else\n",
    "        # don't include file extension!\n",
    "        @printf(cif_file, \"data_%s_PM\\n\", split(crystal.name, \".\")[1])\n",
    "    end\n",
    "\n",
    "    @printf(cif_file, \"_symmetry_space_group_name_H-M\\t'%s'\\n\", crystal.symmetry.space_group)\n",
    "\n",
    "    @printf(cif_file, \"_cell_length_a\\t%f\\n\", crystal.box.a)\n",
    "    @printf(cif_file, \"_cell_length_b\\t%f\\n\", crystal.box.b)\n",
    "    @printf(cif_file, \"_cell_length_c\\t%f\\n\", crystal.box.c)\n",
    "\n",
    "    @printf(cif_file, \"_cell_angle_alpha\\t%f\\n\", crystal.box.α * 180.0 / pi)\n",
    "    @printf(cif_file, \"_cell_angle_beta\\t%f\\n\", crystal.box.β * 180.0 / pi)\n",
    "    @printf(cif_file, \"_cell_angle_gamma\\t%f\\n\", crystal.box.γ * 180.0 / pi)\n",
    "\n",
    "    @printf(cif_file, \"_symmetry_Int_Tables_number 1\\n\\n\")\n",
    "    @printf(cif_file, \"loop_\\n_symmetry_equiv_pos_as_xyz\\n\")\n",
    "    for i in 1:size(crystal.symmetry.operations, 2)\n",
    "        @printf(cif_file, \"'%s,%s,%s'\\n\", crystal.symmetry.operations[:, i]...)\n",
    "    end\n",
    "    @printf(cif_file, \"\\n\")\n",
    "\n",
    "    @printf(cif_file, \"loop_\\n_atom_site_label\\n_atom_site_type_symbol\\n\")\n",
    "    if fractional_coords\n",
    "        @printf(cif_file, \"_atom_site_fract_x\\n_atom_site_fract_y\\n_atom_site_fract_z\\n\")\n",
    "    else\n",
    "        @printf(cif_file, \"_atom_site_Cartn_x\\n_atom_site_Cartn_y\\n_atom_site_Cartn_z\\n\")\n",
    "    end\n",
    "    high_precision_charges = false # if, for neutrality, need high-precision charges\n",
    "    if has_charges(crystal)\n",
    "        @printf(cif_file, \"_atom_site_charge\\n\")\n",
    "        # if crystal will not be charge neutral to a 1e-5 tolerance when loading it\n",
    "        #    into PorousMaterials.jl, then write higher-precision charges\n",
    "        if abs(sum(round.(crystal.charges.q, digits=6))) > NET_CHARGE_TOL\n",
    "            @info \"writing high-precision charges for \" * filename * \".\\n\"\n",
    "            high_precision_charges = true\n",
    "        end\n",
    "    end\n",
    "\n",
    "    \n",
    "    nb_of_X = 0\n",
    "    idx_to_label = [\"\" for i = 1:crystal.atoms.n]\n",
    "    for i = 1:crystal.atoms.n\n",
    "        # print label and type symbol\n",
    "        \n",
    "        if crystal.atoms.species[i] == :X\n",
    "            nb_of_X += 1\n",
    "\n",
    "            element = X_species[nb_of_X]\n",
    "            \n",
    "            @printf(cif_file, \"%s\\t%s\\t\", string(crystal.atoms.species[i]) *\n",
    "                string(i),\n",
    "                element)\n",
    "        else\n",
    "            @printf(cif_file, \"%s\\t%s\\t\", string(crystal.atoms.species[i]) *\n",
    "                string(i),\n",
    "                crystal.atoms.species[i])\n",
    "        end\n",
    "        \n",
    "        # store label for this atom idx\n",
    "        idx_to_label[i] = string(crystal.atoms.species[i]) *\n",
    "                    string(i)\n",
    "        # increment label\n",
    "        \n",
    "        if fractional_coords\n",
    "            @printf(cif_file, \"%f\\t%f\\t%f\", crystal.atoms.coords.xf[:, i]...)\n",
    "        else\n",
    "            @printf(cif_file, \"%f\\t%f\\t%f\", (crystal.box.f_to_c * crystal.atoms.coords.xf[:, i])...)\n",
    "        end\n",
    "        if has_charges(crystal)\n",
    "            if high_precision_charges\n",
    "                @printf(cif_file, \"\\t%.10f\\n\", crystal.charges.q[i])\n",
    "            else\n",
    "                @printf(cif_file, \"\\t%f\\n\", crystal.charges.q[i])\n",
    "            end\n",
    "        else\n",
    "            @printf(cif_file, \"\\n\")\n",
    "        end\n",
    "    end\n",
    "\n",
    "    # only print bond information if it is in the crystal\n",
    "    if ne(crystal.bonds) > 0\n",
    "        if ! number_atoms\n",
    "             error(\"must label atoms with numbers to write bond information.\\n\")\n",
    "        end\n",
    "        # print column names for bond information\n",
    "        @printf(cif_file, \"\\nloop_\\n_geom_bond_atom_site_label_1\\n_geom_bond_atom_site_label_2\\n_geom_bond_distance\\n_ccdc_geom_bond_type\\n\")\n",
    "\n",
    "        for edge in collect(edges(crystal.bonds))\n",
    "            dxf = crystal.atoms.coords.xf[:, edge.src] - crystal.atoms.coords.xf[:, edge.dst]\n",
    "            nearest_image!(dxf)\n",
    "            @printf(cif_file, \"%s\\t%s\\t%0.5f\\t%s\\n\", idx_to_label[edge.src], idx_to_label[edge.dst],\n",
    "                    norm(dxf), \". A\")\n",
    "        end\n",
    "    end\n",
    "    close(cif_file)\n",
    "end"
   ]
  },
  {
   "cell_type": "code",
   "execution_count": null,
   "metadata": {},
   "outputs": [],
   "source": [
    "X_species"
   ]
  },
  {
   "cell_type": "code",
   "execution_count": null,
   "metadata": {},
   "outputs": [],
   "source": [
    "X_ids"
   ]
  },
  {
   "cell_type": "code",
   "execution_count": 28,
   "metadata": {
    "scrolled": true
   },
   "outputs": [
    {
     "name": "stderr",
     "output_type": "stream",
     "text": [
      "┌ Warning: atom 1 = X in tobacco_crystal.cif is not bonded to any other atom.\n",
      "└ @ Xtals C:\\Users\\kgeri\\.julia\\packages\\Xtals\\Hr2Rt\\src\\bonds.jl:430\n"
     ]
    },
    {
     "data": {
      "text/plain": [
       "false"
      ]
     },
     "execution_count": 28,
     "metadata": {},
     "output_type": "execute_result"
    }
   ],
   "source": [
    "infer_bonds!(tobacco_crystal, false)"
   ]
  },
  {
   "cell_type": "code",
   "execution_count": 29,
   "metadata": {},
   "outputs": [],
   "source": [
    "write_cif_Kai(tobacco_crystal, \"tobacco_crystal.cif\", X_species, X_ids)"
   ]
  },
  {
   "cell_type": "code",
   "execution_count": null,
   "metadata": {},
   "outputs": [],
   "source": [
    "mol_file = replace(mol_file, \"mol\" => \"cif\")\n",
    "test_file_name = string(\"Test\", mol_file)"
   ]
  },
  {
   "cell_type": "code",
   "execution_count": null,
   "metadata": {},
   "outputs": [],
   "source": [
    "write_cif_Kai(tobacco_crystal, test_file_name, X_species, X_ids)"
   ]
  },
  {
   "cell_type": "code",
   "execution_count": null,
   "metadata": {},
   "outputs": [],
   "source": [
    "crystal = tobacco_crystal\n",
    "for edge in collect(edges(crystal.bonds))\n",
    "            dxf = crystal.atoms.coords.xf[:, edge.src] - crystal.atoms.coords.xf[:, edge.dst]\n",
    "            nearest_image!(dxf)\n",
    "            @printf(\"%s\\t%s\\t%0.5f\\t%s\\n\", crystal.atoms.species[edge.src], crystal.atoms.species[edge.dst],\n",
    "                    norm(dxf), \". A\")\n",
    "end"
   ]
  },
  {
   "cell_type": "code",
   "execution_count": null,
   "metadata": {},
   "outputs": [],
   "source": []
  },
  {
   "cell_type": "code",
   "execution_count": null,
   "metadata": {},
   "outputs": [],
   "source": []
  },
  {
   "cell_type": "code",
   "execution_count": null,
   "metadata": {},
   "outputs": [],
   "source": []
  },
  {
   "cell_type": "code",
   "execution_count": null,
   "metadata": {},
   "outputs": [],
   "source": []
  },
  {
   "cell_type": "code",
   "execution_count": null,
   "metadata": {},
   "outputs": [],
   "source": []
  },
  {
   "cell_type": "code",
   "execution_count": null,
   "metadata": {},
   "outputs": [],
   "source": []
  },
  {
   "cell_type": "code",
   "execution_count": null,
   "metadata": {},
   "outputs": [],
   "source": []
  },
  {
   "cell_type": "code",
   "execution_count": null,
   "metadata": {},
   "outputs": [],
   "source": []
  },
  {
   "cell_type": "code",
   "execution_count": null,
   "metadata": {},
   "outputs": [],
   "source": []
  },
  {
   "cell_type": "code",
   "execution_count": null,
   "metadata": {},
   "outputs": [],
   "source": []
  },
  {
   "cell_type": "code",
   "execution_count": null,
   "metadata": {},
   "outputs": [],
   "source": []
  },
  {
   "cell_type": "code",
   "execution_count": null,
   "metadata": {},
   "outputs": [],
   "source": []
  },
  {
   "cell_type": "code",
   "execution_count": null,
   "metadata": {},
   "outputs": [],
   "source": []
  },
  {
   "cell_type": "code",
   "execution_count": null,
   "metadata": {},
   "outputs": [],
   "source": []
  },
  {
   "cell_type": "code",
   "execution_count": null,
   "metadata": {},
   "outputs": [],
   "source": []
  },
  {
   "cell_type": "code",
   "execution_count": null,
   "metadata": {},
   "outputs": [],
   "source": []
  },
  {
   "cell_type": "code",
   "execution_count": null,
   "metadata": {},
   "outputs": [],
   "source": []
  },
  {
   "cell_type": "code",
   "execution_count": null,
   "metadata": {},
   "outputs": [],
   "source": []
  },
  {
   "cell_type": "code",
   "execution_count": null,
   "metadata": {},
   "outputs": [],
   "source": []
  },
  {
   "cell_type": "code",
   "execution_count": null,
   "metadata": {},
   "outputs": [],
   "source": []
  },
  {
   "cell_type": "code",
   "execution_count": null,
   "metadata": {},
   "outputs": [],
   "source": []
  },
  {
   "cell_type": "code",
   "execution_count": null,
   "metadata": {},
   "outputs": [],
   "source": []
  }
 ],
 "metadata": {
  "kernelspec": {
   "display_name": "Julia 1.5.1",
   "language": "julia",
   "name": "julia-1.5"
  },
  "language_info": {
   "file_extension": ".jl",
   "mimetype": "application/julia",
   "name": "julia",
   "version": "1.5.1"
  }
 },
 "nbformat": 4,
 "nbformat_minor": 2
}
